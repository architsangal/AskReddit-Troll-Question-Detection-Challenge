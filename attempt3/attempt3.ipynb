{
  "cells": [
    {
      "cell_type": "markdown",
      "metadata": {
        "id": "lx2nbe5zZ_-N"
      },
      "source": [
        "# AskReddit Troll Question Detection Challenge"
      ]
    },
    {
      "cell_type": "markdown",
      "metadata": {
        "id": "KXFHvvFiZ_-U"
      },
      "source": [
        "## Imports"
      ]
    },
    {
      "cell_type": "code",
      "execution_count": 113,
      "metadata": {
        "id": "fhlIiuWBZ_-U"
      },
      "outputs": [],
      "source": [
        "import numpy as np \n",
        "import pandas as pd\n",
        "import sklearn\n",
        "from sklearn.feature_extraction.text import CountVectorizer\n",
        "from sklearn.feature_extraction.text import TfidfVectorizer\n",
        "import re"
      ]
    },
    {
      "cell_type": "code",
      "execution_count": 114,
      "metadata": {
        "colab": {
          "base_uri": "https://localhost:8080/"
        },
        "id": "KDrBqoiNZ_-X",
        "outputId": "c40b4b25-b8cb-49ba-dcd4-cc6a92ab4ced"
      },
      "outputs": [],
      "source": [
        "\n",
        "import nltk # for tokenizing the paragraphs in sentences and sentences in words\n",
        "from nltk.stem import WordNetLemmatizer\n",
        "from nltk.corpus import stopwords"
      ]
    },
    {
      "cell_type": "code",
      "execution_count": 115,
      "metadata": {
        "colab": {
          "base_uri": "https://localhost:8080/"
        },
        "id": "9ocHtsZhZ_-X",
        "outputId": "3f4da35a-6e3c-474d-fdc1-e8dc94e362c3"
      },
      "outputs": [
        {
          "name": "stderr",
          "output_type": "stream",
          "text": [
            "[nltk_data] Downloading package punkt to /home/archit/nltk_data...\n",
            "[nltk_data]   Package punkt is already up-to-date!\n",
            "[nltk_data] Downloading package stopwords to /home/archit/nltk_data...\n",
            "[nltk_data]   Package stopwords is already up-to-date!\n",
            "[nltk_data] Downloading package wordnet to /home/archit/nltk_data...\n",
            "[nltk_data]   Package wordnet is already up-to-date!\n"
          ]
        },
        {
          "data": {
            "text/plain": [
              "True"
            ]
          },
          "execution_count": 115,
          "metadata": {},
          "output_type": "execute_result"
        }
      ],
      "source": [
        "nltk.download('punkt')\n",
        "nltk.download('stopwords')\n",
        "nltk.download('wordnet')"
      ]
    },
    {
      "cell_type": "code",
      "execution_count": 116,
      "metadata": {
        "id": "rBUkOv3-Z_-Z"
      },
      "outputs": [],
      "source": [
        "train_df = pd.read_csv(\"train.csv\")\n",
        "\n",
        "# train_df.head()\n",
        "# df = train_df[(train_df == 1).any(axis=1)]\n",
        "# print(df['question_text'].tolist())"
      ]
    },
    {
      "cell_type": "markdown",
      "metadata": {
        "id": "_J94ZCTaZ_-Z"
      },
      "source": [
        "## Preprocessing"
      ]
    },
    {
      "cell_type": "markdown",
      "metadata": {
        "id": "OLiW_3JiZ_-a"
      },
      "source": [
        "### Dropping the qid"
      ]
    },
    {
      "cell_type": "code",
      "execution_count": 117,
      "metadata": {
        "id": "cx1MhOldZ_-b"
      },
      "outputs": [],
      "source": [
        "train_df.drop(columns=[\"qid\"],inplace=True)\n",
        "# train_df.head()"
      ]
    },
    {
      "cell_type": "markdown",
      "metadata": {},
      "source": [
        "### Data Balance Check"
      ]
    },
    {
      "cell_type": "code",
      "execution_count": 118,
      "metadata": {},
      "outputs": [
        {
          "data": {
            "text/plain": [
              "[Text(0, 0, '0'), Text(1, 0, '1')]"
            ]
          },
          "execution_count": 118,
          "metadata": {},
          "output_type": "execute_result"
        },
        {
          "data": {
            "image/png": "[encoded data removed]",
            "text/plain": [
              "<Figure size 432x288 with 1 Axes>"
            ]
          },
          "metadata": {
            "needs_background": "light"
          },
          "output_type": "display_data"
        }
      ],
      "source": [
        "import matplotlib.pyplot as plt\n",
        "\n",
        "# Plotting the distribution for dataset.\n",
        "ax = train_df.groupby('target').count().plot(kind='bar', title='Distribution of data',legend=False)\n",
        "ax.set_xticklabels(['0','1'], rotation=0)"
      ]
    },
    {
      "cell_type": "markdown",
      "metadata": {},
      "source": [
        "### Balancing the data"
      ]
    },
    {
      "cell_type": "code",
      "execution_count": 119,
      "metadata": {},
      "outputs": [
        {
          "name": "stdout",
          "output_type": "stream",
          "text": [
            "(1218731, 2)\n",
            "(1218731, 2)\n"
          ]
        }
      ],
      "source": [
        "# from imblearn.over_sampling import SMOTE \n",
        "\n",
        "# sm = SMOTE(random_state=23, sampling_strategy=1.0)\n",
        "# X_train_sm, y_train_sm = sm.fit_resample(train_df['question_text'], train_df['target'])\n",
        "# print(len(X_train_sm), len(y_train_sm))\n",
        "\n",
        "# Above cannot be used here as they are in string format\n",
        "\n",
        "minority_class = train_df[train_df['target']==1]\n",
        "majority_class = train_df[train_df['target']==0]\n",
        "for i in range(14):\n",
        "    train_df = train_df.append(minority_class, ignore_index=True)\n",
        "\n",
        "print(train_df.shape)\n",
        "train_df=train_df.sample(frac=1).reset_index(drop=True)\n",
        "print(train_df.shape)\n",
        "# print(train_df.shape)\n",
        "# print(minority_class.shape)\n",
        "# print(majority_class.shape)\n",
        "# print(minority_class[0:100])"
      ]
    },
    {
      "cell_type": "code",
      "execution_count": 120,
      "metadata": {},
      "outputs": [
        {
          "data": {
            "text/plain": [
              "[Text(0, 0, '0'), Text(1, 0, '1')]"
            ]
          },
          "execution_count": 120,
          "metadata": {},
          "output_type": "execute_result"
        },
        {
          "data": {
            "image/png": "[encoded data removed]",
            "text/plain": [
              "<Figure size 432x288 with 1 Axes>"
            ]
          },
          "metadata": {
            "needs_background": "light"
          },
          "output_type": "display_data"
        }
      ],
      "source": [
        "ax = train_df.groupby('target').count().plot(kind='bar', title='Distribution of data',legend=False)\n",
        "ax.set_xticklabels(['0','1'], rotation=0)"
      ]
    },
    {
      "cell_type": "markdown",
      "metadata": {
        "id": "x-VUUbh5Z_-c"
      },
      "source": [
        "### Cleaning the data\n",
        "\n",
        "- Like removing !?., etc.\n",
        "- converting sentences to lower case"
      ]
    },
    {
      "cell_type": "code",
      "execution_count": 121,
      "metadata": {},
      "outputs": [],
      "source": [
        "sentences = train_df['question_text'].tolist()\n",
        "N = len(sentences)\n",
        "sentences = sentences[0:N]"
      ]
    },
    {
      "cell_type": "code",
      "execution_count": 122,
      "metadata": {
        "id": "bDlxrDDYZ_-d"
      },
      "outputs": [],
      "source": [
        "i=0\n",
        "for sentence in sentences:\n",
        "    temp = re.sub('[^a-zA-Z0-9]', ' ', sentence)\n",
        "    temp = temp.lower()\n",
        "    new_sentence = temp.split()\n",
        "    new_sentence = ' '.join(new_sentence)\n",
        "    sentences[i] = new_sentence\n",
        "    # print(new_sentence)\n",
        "    i+=1"
      ]
    },
    {
      "cell_type": "markdown",
      "metadata": {
        "id": "_dz4BTlbZ_-d"
      },
      "source": [
        "### Lemmatization\n",
        "- We need to perform Stemming and Lemmatization on the sentences. Lemmatization is prefered as of now (Converting to meaningful words)."
      ]
    },
    {
      "cell_type": "code",
      "execution_count": 123,
      "metadata": {
        "id": "EXYPQfkHZ_-d"
      },
      "outputs": [],
      "source": [
        "lemmatizer = WordNetLemmatizer()\n",
        "\n",
        "tokenized_sentences = []\n",
        "for sentence in sentences:\n",
        "    words = nltk.word_tokenize(sentence)\n",
        "\n",
        "    # removing stop words and using list composition \n",
        "    words = [lemmatizer.lemmatize(word) for word in words if word not in set(stopwords.words('english'))]\n",
        "\n",
        "    # joining words using spaces\n",
        "    tokenized_sentences.append(' '.join(words))"
      ]
    },
    {
      "cell_type": "markdown",
      "metadata": {
        "id": "MHcmJSTWZ_-e"
      },
      "source": [
        "### Data in sentences"
      ]
    },
    {
      "cell_type": "code",
      "execution_count": 124,
      "metadata": {
        "id": "NVhTdCzmZ_-e"
      },
      "outputs": [],
      "source": [
        "sentences = tokenized_sentences\n",
        "# print(sentences)"
      ]
    },
    {
      "cell_type": "markdown",
      "metadata": {
        "id": "SGCFlwCKZ_-e"
      },
      "source": [
        "## Vectoring Words"
      ]
    },
    {
      "cell_type": "markdown",
      "metadata": {
        "id": "T7Q_4MUsZ_-f"
      },
      "source": [
        "#### Bag Of Words"
      ]
    },
    {
      "cell_type": "code",
      "execution_count": 125,
      "metadata": {
        "id": "H2wvKev9Z_-f"
      },
      "outputs": [],
      "source": [
        "# TODO max_features = 1500 may need to be altered\n",
        "cv = CountVectorizer()\n",
        "X1 = cv.fit_transform(sentences)"
      ]
    },
    {
      "cell_type": "code",
      "execution_count": 126,
      "metadata": {
        "id": "vmSDQ3SQcgM0"
      },
      "outputs": [
        {
          "name": "stdout",
          "output_type": "stream",
          "text": [
            "<class 'scipy.sparse.csr.csr_matrix'>\n",
            "int64\n",
            "float64\n"
          ]
        }
      ],
      "source": [
        "print(type(X1))\n",
        "print(X1.dtype)\n",
        "X1 = X1.astype(float)\n",
        "print(X1.dtype)"
      ]
    },
    {
      "cell_type": "code",
      "execution_count": 127,
      "metadata": {
        "id": "IW7S45TpnoLu"
      },
      "outputs": [],
      "source": [
        "Y1 = train_df['target'].to_numpy().astype(np.float64)\n",
        "Y1 = Y1[:N]"
      ]
    },
    {
      "cell_type": "markdown",
      "metadata": {
        "id": "-DL54RsIZ_-f"
      },
      "source": [
        "#### TF IDF"
      ]
    },
    {
      "cell_type": "code",
      "execution_count": 128,
      "metadata": {
        "id": "mslJKymTZ_-f"
      },
      "outputs": [],
      "source": [
        "cv = TfidfVectorizer()\n",
        "X2 = cv.fit_transform(sentences)\n",
        "# print(X2)"
      ]
    },
    {
      "cell_type": "code",
      "execution_count": 129,
      "metadata": {
        "id": "Lj34PL32colU"
      },
      "outputs": [
        {
          "name": "stdout",
          "output_type": "stream",
          "text": [
            "<class 'scipy.sparse.csr.csr_matrix'>\n",
            "float64\n"
          ]
        }
      ],
      "source": [
        "print(type(X2))\n",
        "X2 = X2.astype(float)\n",
        "print(X2.dtype)"
      ]
    },
    {
      "cell_type": "code",
      "execution_count": 130,
      "metadata": {
        "id": "nFKeWdk0oTw6"
      },
      "outputs": [],
      "source": [
        "Y2 = Y1"
      ]
    },
    {
      "cell_type": "markdown",
      "metadata": {
        "id": "LWB94h8TZ_-g"
      },
      "source": [
        "#### Train test split data"
      ]
    },
    {
      "cell_type": "code",
      "execution_count": 131,
      "metadata": {
        "id": "bsgQdc0DZ_-g"
      },
      "outputs": [],
      "source": [
        "from sklearn.model_selection import train_test_split \n",
        "\n",
        "train_X1, test_X1, train_y1, test_y1 = train_test_split(X1, Y1, train_size=0.6)\n",
        "\n",
        "train_X2, test_X2, train_y2, test_y2 = train_test_split(X2, Y2, train_size=0.6)"
      ]
    },
    {
      "cell_type": "markdown",
      "metadata": {
        "id": "Eze130ezqBb_"
      },
      "source": [
        "## Model generation"
      ]
    },
    {
      "cell_type": "code",
      "execution_count": 132,
      "metadata": {
        "id": "rn2kPLNFpKIB"
      },
      "outputs": [],
      "source": [
        "from sklearn.linear_model import LogisticRegression \n",
        "from sklearn.metrics import accuracy_score, f1_score, roc_auc_score"
      ]
    },
    {
      "cell_type": "markdown",
      "metadata": {
        "id": "E6rUXyvQqIm-"
      },
      "source": [
        "#### For data genrated by \"Bag of words\" method  "
      ]
    },
    {
      "cell_type": "code",
      "execution_count": 133,
      "metadata": {
        "id": "xuwqd1rAp3dd"
      },
      "outputs": [
        {
          "data": {
            "text/plain": [
              "LogisticRegression(solver='liblinear')"
            ]
          },
          "execution_count": 133,
          "metadata": {},
          "output_type": "execute_result"
        }
      ],
      "source": [
        "lreg1 = LogisticRegression(solver='liblinear')\n",
        "lreg1.fit(train_X1,train_y1)"
      ]
    },
    {
      "cell_type": "markdown",
      "metadata": {
        "id": "RUYqt4NSqU2n"
      },
      "source": [
        "#### For data generated by \"TD IDF\" method"
      ]
    },
    {
      "cell_type": "code",
      "execution_count": 134,
      "metadata": {
        "id": "iGQrUb81p6yD"
      },
      "outputs": [
        {
          "data": {
            "text/plain": [
              "LogisticRegression(solver='liblinear')"
            ]
          },
          "execution_count": 134,
          "metadata": {},
          "output_type": "execute_result"
        }
      ],
      "source": [
        "lreg2 = LogisticRegression(solver='liblinear')\n",
        "lreg2.fit(train_X2,train_y2)"
      ]
    },
    {
      "cell_type": "markdown",
      "metadata": {
        "id": "9l8Fkxpa16hQ"
      },
      "source": [
        "#### Predict for X1, Y1"
      ]
    },
    {
      "cell_type": "code",
      "execution_count": 142,
      "metadata": {
        "id": "LUEcmzS71ogz"
      },
      "outputs": [],
      "source": [
        "train_yhat1 = lreg1.predict_proba(train_X1)\n",
        "test_yhat1 = lreg1.predict_proba(test_X1)\n",
        "\n",
        "# print(\"training score = \", roc_auc_score(train_y1, train_yhat1[:,1]))\n",
        "# print(\"test score = \", roc_auc_score(test_y1,test_yhat1[:,1]))\n",
        "\n",
        "threshold = 0.5\n",
        "\n",
        "train_output1 = (train_yhat1[:,1] > threshold).astype(int)\n",
        "test_output1 = (test_yhat1[:,1] > threshold).astype(int)"
      ]
    },
    {
      "cell_type": "code",
      "execution_count": 143,
      "metadata": {},
      "outputs": [
        {
          "name": "stdout",
          "output_type": "stream",
          "text": [
            "training score =  0.9327706012938113\n",
            "testing score =  0.9256508978637981\n"
          ]
        }
      ],
      "source": [
        "print(\"training score = \", f1_score(train_y1.astype(int), train_output1))\n",
        "print(\"testing score = \", f1_score(test_y1.astype(int), test_output1))"
      ]
    },
    {
      "cell_type": "markdown",
      "metadata": {
        "id": "qE74zYa62MfV"
      },
      "source": [
        "#### Predict for X2, Y2"
      ]
    },
    {
      "cell_type": "code",
      "execution_count": 144,
      "metadata": {
        "id": "vdTbUQBz2QkI"
      },
      "outputs": [],
      "source": [
        "train_yhat2 = lreg2.predict_proba(train_X2)\n",
        "test_yhat2 = lreg2.predict_proba(test_X2)\n",
        "\n",
        "# print(\"training score = \", roc_auc_score(train_y2, train_yhat2[:,1]))\n",
        "# print(\"test score = \", roc_auc_score(test_y2,test_yhat2[:,1]))\n",
        "\n",
        "threshold = 0.5\n",
        "\n",
        "train_output2 = (train_yhat2[:,1] > threshold).astype(int)\n",
        "test_output2 = (test_yhat2[:,1] > threshold).astype(int)"
      ]
    },
    {
      "cell_type": "code",
      "execution_count": 145,
      "metadata": {},
      "outputs": [
        {
          "name": "stdout",
          "output_type": "stream",
          "text": [
            "training score =  0.9254386083532342\n",
            "testing score =  0.9196604430843359\n"
          ]
        }
      ],
      "source": [
        "print(\"training score = \", f1_score(train_y2.astype(int), train_output2))\n",
        "print(\"testing score = \", f1_score(test_y2.astype(int), test_output2))"
      ]
    },
    {
      "cell_type": "code",
      "execution_count": 139,
      "metadata": {},
      "outputs": [],
      "source": [
        "data = [[\"question_text\",\"target\"]]\n",
        "for i in range(N):\n",
        "  data.append([sentences[i],Y1[i]])"
      ]
    },
    {
      "cell_type": "code",
      "execution_count": 140,
      "metadata": {},
      "outputs": [],
      "source": [
        "import csv\n",
        "\n",
        "with open('processed_train_data.csv','w',newline='') as fp:\n",
        "  a = csv.writer(fp, delimiter=',')\n",
        "  a.writerows(data)"
      ]
    },
    {
      "cell_type": "markdown",
      "metadata": {},
      "source": [
        "#### Saving Model"
      ]
    },
    {
      "cell_type": "code",
      "execution_count": 141,
      "metadata": {},
      "outputs": [],
      "source": [
        "# import joblib\n",
        "\n",
        "# joblib.dump(lreg1,'Using Split LReg1 Model')\n",
        "# joblib.dump(lreg2,'Using Split LReg2 Model')"
      ]
    }
  ],
  "metadata": {
    "colab": {
      "collapsed_sections": [],
      "name": "v1.ipynb",
      "provenance": []
    },
    "interpreter": {
      "hash": "916dbcbb3f70747c44a77c7bcd40155683ae19c65e1c03b4aa3499c5328201f1"
    },
    "kernelspec": {
      "display_name": "Python 3.8.10 64-bit",
      "language": "python",
      "name": "python3"
    },
    "language_info": {
      "codemirror_mode": {
        "name": "ipython",
        "version": 3
      },
      "file_extension": ".py",
      "mimetype": "text/x-python",
      "name": "python",
      "nbconvert_exporter": "python",
      "pygments_lexer": "ipython3",
      "version": "3.8.10"
    },
    "orig_nbformat": 4
  },
  "nbformat": 4,
  "nbformat_minor": 0
}
