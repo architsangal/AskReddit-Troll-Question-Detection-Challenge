{
  "cells": [
    {
      "cell_type": "markdown",
      "metadata": {
        "id": "lx2nbe5zZ_-N"
      },
      "source": [
        "# AskReddit Troll Question Detection Challenge"
      ]
    },
    {
      "cell_type": "markdown",
      "metadata": {
        "id": "KXFHvvFiZ_-U"
      },
      "source": [
        "## Imports"
      ]
    },
    {
      "cell_type": "code",
      "execution_count": 25,
      "metadata": {
        "id": "fhlIiuWBZ_-U"
      },
      "outputs": [],
      "source": [
        "import numpy as np \n",
        "import pandas as pd\n",
        "import sklearn\n",
        "from sklearn.feature_extraction.text import CountVectorizer\n",
        "from sklearn.feature_extraction.text import TfidfVectorizer\n",
        "import re"
      ]
    },
    {
      "cell_type": "code",
      "execution_count": 26,
      "metadata": {
        "colab": {
          "base_uri": "https://localhost:8080/"
        },
        "id": "KDrBqoiNZ_-X",
        "outputId": "c40b4b25-b8cb-49ba-dcd4-cc6a92ab4ced"
      },
      "outputs": [],
      "source": [
        "\n",
        "import nltk # for tokenizing the paragraphs in sentences and sentences in words\n",
        "from nltk.stem import WordNetLemmatizer\n",
        "from nltk.corpus import stopwords"
      ]
    },
    {
      "cell_type": "code",
      "execution_count": 27,
      "metadata": {
        "colab": {
          "base_uri": "https://localhost:8080/"
        },
        "id": "9ocHtsZhZ_-X",
        "outputId": "3f4da35a-6e3c-474d-fdc1-e8dc94e362c3"
      },
      "outputs": [
        {
          "name": "stderr",
          "output_type": "stream",
          "text": [
            "[nltk_data] Downloading package punkt to /home/archit/nltk_data...\n",
            "[nltk_data]   Package punkt is already up-to-date!\n",
            "[nltk_data] Downloading package stopwords to /home/archit/nltk_data...\n",
            "[nltk_data]   Package stopwords is already up-to-date!\n",
            "[nltk_data] Downloading package wordnet to /home/archit/nltk_data...\n",
            "[nltk_data]   Package wordnet is already up-to-date!\n"
          ]
        },
        {
          "data": {
            "text/plain": [
              "True"
            ]
          },
          "execution_count": 27,
          "metadata": {},
          "output_type": "execute_result"
        }
      ],
      "source": [
        "nltk.download('punkt')\n",
        "nltk.download('stopwords')\n",
        "nltk.download('wordnet')"
      ]
    },
    {
      "cell_type": "code",
      "execution_count": 28,
      "metadata": {
        "id": "rBUkOv3-Z_-Z"
      },
      "outputs": [],
      "source": [
        "train_df = pd.read_csv(\"train.csv\")\n",
        "\n",
        "# train_df.head()\n",
        "# df = train_df[(train_df == 1).any(axis=1)]\n",
        "# print(df['question_text'].tolist())"
      ]
    },
    {
      "cell_type": "markdown",
      "metadata": {
        "id": "_J94ZCTaZ_-Z"
      },
      "source": [
        "## Preprocessing"
      ]
    },
    {
      "cell_type": "markdown",
      "metadata": {
        "id": "OLiW_3JiZ_-a"
      },
      "source": [
        "### Dropping the qid"
      ]
    },
    {
      "cell_type": "code",
      "execution_count": 29,
      "metadata": {
        "id": "cx1MhOldZ_-b"
      },
      "outputs": [],
      "source": [
        "train_df.drop(columns=[\"qid\"],inplace=True)\n",
        "# train_df.head()"
      ]
    },
    {
      "cell_type": "markdown",
      "metadata": {},
      "source": [
        "### Data Balance Check"
      ]
    },
    {
      "cell_type": "code",
      "execution_count": 30,
      "metadata": {},
      "outputs": [
        {
          "data": {
            "text/plain": [
              "[Text(0, 0, '0'), Text(1, 0, '1')]"
            ]
          },
          "execution_count": 30,
          "metadata": {},
          "output_type": "execute_result"
        },
        {
          "data": {
            "image/png": "[encoded data removed]",
            "text/plain": [
              "<Figure size 432x288 with 1 Axes>"
            ]
          },
          "metadata": {
            "needs_background": "light"
          },
          "output_type": "display_data"
        }
      ],
      "source": [
        "import matplotlib.pyplot as plt\n",
        "\n",
        "# Plotting the distribution for dataset.\n",
        "ax = train_df.groupby('target').count().plot(kind='bar', title='Distribution of data',legend=False)\n",
        "ax.set_xticklabels(['0','1'], rotation=0)"
      ]
    },
    {
      "cell_type": "markdown",
      "metadata": {},
      "source": [
        "Hence, we need to balance the data some how.\n",
        "\n",
        "- As the data is in string so we cannot do balancing of data right now.\n",
        "- We cannot duplicate the data here as in that case we will affect the vectorisation of the base data (We tried but that didn't work well).\n",
        "- Now we will first vectorize the data and then use balancing data techniques."
      ]
    },
    {
      "cell_type": "code",
      "execution_count": 31,
      "metadata": {},
      "outputs": [],
      "source": [
        "# from imblearn.over_sampling import SMOTE \n",
        "\n",
        "# sm = SMOTE(random_state=23, sampling_strategy=1.0)\n",
        "# X_train_sm, y_train_sm = sm.fit_resample(train_df['question_text'], train_df['target'])\n",
        "# print(len(X_train_sm), len(y_train_sm))\n",
        "\n",
        "# Above cannot be used here as they are in string format\n",
        "# -----------------------------------------------------------------------------------------------------------\n",
        "\n",
        "# minority_class = train_df[train_df['target']==1]\n",
        "# majority_class = train_df[train_df['target']==0]\n",
        "# for i in range(14):\n",
        "#     train_df = train_df.append(minority_class, ignore_index=True)\n",
        "\n",
        "# print(train_df.shape)\n",
        "# train_df=train_df.sample(frac=1).reset_index(drop=True)\n",
        "# print(train_df.shape)\n",
        "# print(train_df.shape)\n",
        "# print(minority_class.shape)\n",
        "# print(majority_class.shape)\n",
        "# print(minority_class[0:100])"
      ]
    },
    {
      "cell_type": "code",
      "execution_count": 32,
      "metadata": {},
      "outputs": [],
      "source": [
        "# ax = train_df.groupby('target').count().plot(kind='bar', title='Distribution of data',legend=False)\n",
        "# ax.set_xticklabels(['0','1'], rotation=0)"
      ]
    },
    {
      "cell_type": "markdown",
      "metadata": {
        "id": "x-VUUbh5Z_-c"
      },
      "source": [
        "### Cleaning the data\n",
        "\n",
        "- Like removing !?., etc.\n",
        "- converting sentences to lower case"
      ]
    },
    {
      "cell_type": "code",
      "execution_count": 33,
      "metadata": {},
      "outputs": [],
      "source": [
        "sentences = train_df['question_text'].tolist()\n",
        "N = len(sentences)\n",
        "sentences = sentences[0:N]"
      ]
    },
    {
      "cell_type": "code",
      "execution_count": 34,
      "metadata": {
        "id": "bDlxrDDYZ_-d"
      },
      "outputs": [],
      "source": [
        "i=0\n",
        "for sentence in sentences:\n",
        "    temp = re.sub('[^a-zA-Z]', ' ', sentence)\n",
        "    temp = temp.lower()\n",
        "    new_sentence = temp.split()\n",
        "    new_sentence = ' '.join(new_sentence)\n",
        "    sentences[i] = new_sentence\n",
        "    # print(new_sentence)\n",
        "    i+=1"
      ]
    },
    {
      "cell_type": "markdown",
      "metadata": {
        "id": "_dz4BTlbZ_-d"
      },
      "source": [
        "### Lemmatization\n",
        "- We need to perform Stemming and Lemmatization on the sentences. Lemmatization is prefered as of now (Converting to meaningful words)."
      ]
    },
    {
      "cell_type": "code",
      "execution_count": 35,
      "metadata": {
        "id": "EXYPQfkHZ_-d"
      },
      "outputs": [],
      "source": [
        "lemmatizer = WordNetLemmatizer()\n",
        "\n",
        "tokenized_sentences = []\n",
        "for sentence in sentences:\n",
        "    words = nltk.word_tokenize(sentence)\n",
        "\n",
        "    # removing stop words and using list composition \n",
        "    words = [lemmatizer.lemmatize(word) for word in words if word not in set(stopwords.words('english'))]\n",
        "\n",
        "    # joining words using spaces\n",
        "    tokenized_sentences.append(' '.join(words))\n",
        "\n",
        "sentences = tokenized_sentences\n",
        "# print(sentences)"
      ]
    },
    {
      "cell_type": "markdown",
      "metadata": {},
      "source": [
        "## Saving The PreProcessed Data"
      ]
    },
    {
      "cell_type": "code",
      "execution_count": 36,
      "metadata": {},
      "outputs": [],
      "source": [
        "Y1 = train_df['target'].to_numpy().astype(np.float64)\n",
        "Y1 = Y1[:N]\n",
        "\n",
        "data = [[\"question_text\",\"target\"]]\n",
        "for i in range(N):\n",
        "  data.append([sentences[i],Y1[i]])\n",
        "\n",
        "import csv\n",
        "\n",
        "with open('processed_train_data.csv','w',newline='') as fp:\n",
        "  a = csv.writer(fp, delimiter=',')\n",
        "  a.writerows(data)"
      ]
    }
  ],
  "metadata": {
    "colab": {
      "collapsed_sections": [],
      "name": "v1.ipynb",
      "provenance": []
    },
    "interpreter": {
      "hash": "916dbcbb3f70747c44a77c7bcd40155683ae19c65e1c03b4aa3499c5328201f1"
    },
    "kernelspec": {
      "display_name": "Python 3.8.10 64-bit",
      "language": "python",
      "name": "python3"
    },
    "language_info": {
      "codemirror_mode": {
        "name": "ipython",
        "version": 3
      },
      "file_extension": ".py",
      "mimetype": "text/x-python",
      "name": "python",
      "nbconvert_exporter": "python",
      "pygments_lexer": "ipython3",
      "version": "3.8.10"
    },
    "orig_nbformat": 4
  },
  "nbformat": 4,
  "nbformat_minor": 0
}
