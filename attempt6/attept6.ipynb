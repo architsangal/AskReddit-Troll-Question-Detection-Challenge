{
 "cells": [
  {
   "cell_type": "code",
   "execution_count": 33,
   "metadata": {},
   "outputs": [
    {
     "name": "stderr",
     "output_type": "stream",
     "text": [
      "[nltk_data] Downloading package punkt to\n",
      "[nltk_data]     /home/architsangal/nltk_data...\n",
      "[nltk_data]   Package punkt is already up-to-date!\n",
      "[nltk_data] Downloading package wordnet to\n",
      "[nltk_data]     /home/architsangal/nltk_data...\n",
      "[nltk_data]   Package wordnet is already up-to-date!\n",
      "[nltk_data] Downloading package stopwords to\n",
      "[nltk_data]     /home/architsangal/nltk_data...\n",
      "[nltk_data]   Package stopwords is already up-to-date!\n"
     ]
    },
    {
     "data": {
      "text/plain": [
       "True"
      ]
     },
     "execution_count": 33,
     "metadata": {},
     "output_type": "execute_result"
    }
   ],
   "source": [
    "from gensim.models import Word2Vec\n",
    "import pandas as pd\n",
    "import re\n",
    "import numpy as np \n",
    "import nltk # for tokenizing the paragraphs in sentences and sentences in words\n",
    "from nltk.corpus import stopwords\n",
    "nltk.download('punkt')\n",
    "nltk.download('wordnet')\n",
    "nltk.download('stopwords')\n",
    "# bigger_list=[]\n",
    "# for i in df['patterns']:\n",
    "#     li = list(i.split(\" \"))\n",
    "#     bigger_list.append(li)\n",
    "\n",
    "\n"
   ]
  },
  {
   "cell_type": "code",
   "execution_count": 8,
   "metadata": {},
   "outputs": [],
   "source": [
    "train_df = pd.read_csv(\"train.csv\")\n",
    "train_df.drop(columns=[\"qid\"],inplace=True)\n",
    "total_y = train_df['target'].tolist()\n",
    "sentences = train_df['question_text'].tolist()\n",
    "vector_size = 150"
   ]
  },
  {
   "cell_type": "code",
   "execution_count": 9,
   "metadata": {},
   "outputs": [],
   "source": [
    "i=0\n",
    "sentences_in_list = []\n",
    "for sentence in sentences:\n",
    "    temp = re.sub('[^a-zA-Z]', ' ', sentence)\n",
    "    temp = temp.lower()\n",
    "    new_sentence = temp.split()\n",
    "    sentences_in_list.append(new_sentence)\n",
    "    new_sentence = ' '.join(new_sentence)\n",
    "    sentences[i] = new_sentence\n",
    "    i+=1"
   ]
  },
  {
   "cell_type": "code",
   "execution_count": 10,
   "metadata": {},
   "outputs": [],
   "source": [
    "f=0\n",
    "set_of_words = set(stopwords.words('english'))\n",
    "i=0\n",
    "for sentence in sentences_in_list:\n",
    "    list_words_left = []\n",
    "    for word in sentence:\n",
    "        if(word in set_of_words):\n",
    "            continue\n",
    "        else:\n",
    "            list_words_left.append(word)\n",
    "    sentences_in_list[i] = list_words_left\n",
    "    i+=1\n",
    "    if i/len(sentences)*100 > f :\n",
    "        # print(f)\n",
    "        f+=1"
   ]
  },
  {
   "cell_type": "code",
   "execution_count": 11,
   "metadata": {},
   "outputs": [],
   "source": [
    "model = Word2Vec(sentences_in_list,workers=8,min_count=1,vector_size=vector_size)"
   ]
  },
  {
   "cell_type": "code",
   "execution_count": 12,
   "metadata": {},
   "outputs": [],
   "source": [
    "vectors_of_sentences = []\n",
    "for sentence in sentences_in_list:\n",
    "    vectors_of_sentence = []\n",
    "    for word in sentence:\n",
    "        try:\n",
    "            vector = model.wv[word]\n",
    "            vectors_of_sentence.append(vector)\n",
    "        except:\n",
    "            continue\n",
    "    vectors_of_sentences.append(vectors_of_sentence)\n"
   ]
  },
  {
   "cell_type": "code",
   "execution_count": 13,
   "metadata": {},
   "outputs": [
    {
     "name": "stdout",
     "output_type": "stream",
     "text": [
      "0\n",
      "1\n",
      "2\n",
      "3\n",
      "4\n",
      "5\n",
      "6\n",
      "7\n",
      "8\n",
      "9\n",
      "10\n",
      "11\n",
      "12\n",
      "13\n",
      "14\n",
      "15\n",
      "16\n",
      "17\n",
      "18\n",
      "19\n",
      "20\n",
      "21\n",
      "22\n",
      "23\n",
      "24\n",
      "25\n",
      "26\n",
      "27\n",
      "28\n",
      "29\n",
      "30\n",
      "31\n",
      "32\n",
      "33\n",
      "34\n",
      "35\n",
      "36\n",
      "37\n",
      "38\n",
      "39\n",
      "40\n",
      "41\n",
      "42\n",
      "43\n",
      "44\n",
      "45\n",
      "46\n",
      "47\n",
      "48\n",
      "49\n",
      "50\n",
      "51\n",
      "52\n",
      "53\n",
      "54\n",
      "55\n",
      "56\n",
      "57\n",
      "58\n",
      "59\n",
      "60\n",
      "61\n",
      "62\n",
      "63\n",
      "64\n",
      "65\n",
      "66\n",
      "67\n",
      "68\n",
      "69\n",
      "70\n",
      "71\n",
      "72\n",
      "73\n",
      "74\n",
      "75\n",
      "76\n",
      "77\n",
      "78\n",
      "79\n",
      "80\n",
      "81\n",
      "82\n",
      "83\n",
      "84\n",
      "85\n",
      "86\n",
      "87\n",
      "88\n",
      "89\n",
      "90\n",
      "91\n",
      "92\n",
      "93\n",
      "94\n",
      "95\n",
      "96\n",
      "97\n",
      "98\n",
      "99\n"
     ]
    }
   ],
   "source": [
    "sum = []\n",
    "k=0\n",
    "f=0\n",
    "for i in vectors_of_sentences:\n",
    "    final_vector = [0]*vector_size\n",
    "    j=0\n",
    "\n",
    "    for vector in i:\n",
    "        final_vector = [a + b for a, b in zip(final_vector, list(vector))]\n",
    "        j+=1\n",
    "    \n",
    "    if(j != 0):\n",
    "        final_vector = [ i/j for i in final_vector]\n",
    "\n",
    "    sum.append(final_vector)\n",
    "    k+=1\n",
    "    if k/len(sentences)*100 > f :\n",
    "        print(f)\n",
    "        f+=1"
   ]
  },
  {
   "cell_type": "code",
   "execution_count": 14,
   "metadata": {},
   "outputs": [],
   "source": [
    "df = pd.DataFrame(sum)"
   ]
  },
  {
   "cell_type": "code",
   "execution_count": 15,
   "metadata": {},
   "outputs": [
    {
     "data": {
      "text/html": [
       "<div>\n",
       "<style scoped>\n",
       "    .dataframe tbody tr th:only-of-type {\n",
       "        vertical-align: middle;\n",
       "    }\n",
       "\n",
       "    .dataframe tbody tr th {\n",
       "        vertical-align: top;\n",
       "    }\n",
       "\n",
       "    .dataframe thead th {\n",
       "        text-align: right;\n",
       "    }\n",
       "</style>\n",
       "<table border=\"1\" class=\"dataframe\">\n",
       "  <thead>\n",
       "    <tr style=\"text-align: right;\">\n",
       "      <th></th>\n",
       "      <th>0</th>\n",
       "      <th>1</th>\n",
       "      <th>2</th>\n",
       "      <th>3</th>\n",
       "      <th>4</th>\n",
       "      <th>5</th>\n",
       "      <th>6</th>\n",
       "      <th>7</th>\n",
       "      <th>8</th>\n",
       "      <th>9</th>\n",
       "      <th>...</th>\n",
       "      <th>140</th>\n",
       "      <th>141</th>\n",
       "      <th>142</th>\n",
       "      <th>143</th>\n",
       "      <th>144</th>\n",
       "      <th>145</th>\n",
       "      <th>146</th>\n",
       "      <th>147</th>\n",
       "      <th>148</th>\n",
       "      <th>149</th>\n",
       "    </tr>\n",
       "  </thead>\n",
       "  <tbody>\n",
       "    <tr>\n",
       "      <th>0</th>\n",
       "      <td>-0.125173</td>\n",
       "      <td>0.148830</td>\n",
       "      <td>-0.377775</td>\n",
       "      <td>-0.471785</td>\n",
       "      <td>-0.271556</td>\n",
       "      <td>-0.423128</td>\n",
       "      <td>-0.734839</td>\n",
       "      <td>0.063350</td>\n",
       "      <td>-0.386305</td>\n",
       "      <td>0.372330</td>\n",
       "      <td>...</td>\n",
       "      <td>-0.499286</td>\n",
       "      <td>0.228226</td>\n",
       "      <td>-0.070504</td>\n",
       "      <td>0.051677</td>\n",
       "      <td>-0.058609</td>\n",
       "      <td>-0.132868</td>\n",
       "      <td>0.032327</td>\n",
       "      <td>0.108723</td>\n",
       "      <td>0.325145</td>\n",
       "      <td>0.270169</td>\n",
       "    </tr>\n",
       "    <tr>\n",
       "      <th>1</th>\n",
       "      <td>-0.760824</td>\n",
       "      <td>0.004937</td>\n",
       "      <td>0.079711</td>\n",
       "      <td>0.159034</td>\n",
       "      <td>-0.623385</td>\n",
       "      <td>-0.517148</td>\n",
       "      <td>-0.191461</td>\n",
       "      <td>-0.037132</td>\n",
       "      <td>-0.601697</td>\n",
       "      <td>0.932013</td>\n",
       "      <td>...</td>\n",
       "      <td>0.011171</td>\n",
       "      <td>0.281666</td>\n",
       "      <td>-0.372281</td>\n",
       "      <td>0.687275</td>\n",
       "      <td>0.252621</td>\n",
       "      <td>0.351640</td>\n",
       "      <td>-0.618454</td>\n",
       "      <td>-0.276499</td>\n",
       "      <td>0.392565</td>\n",
       "      <td>-0.235780</td>\n",
       "    </tr>\n",
       "    <tr>\n",
       "      <th>2</th>\n",
       "      <td>-0.201314</td>\n",
       "      <td>0.295026</td>\n",
       "      <td>-0.338564</td>\n",
       "      <td>0.736514</td>\n",
       "      <td>-0.248719</td>\n",
       "      <td>-0.416360</td>\n",
       "      <td>-0.295105</td>\n",
       "      <td>0.410672</td>\n",
       "      <td>0.047086</td>\n",
       "      <td>-0.319433</td>\n",
       "      <td>...</td>\n",
       "      <td>0.226440</td>\n",
       "      <td>0.256878</td>\n",
       "      <td>-0.197057</td>\n",
       "      <td>0.324045</td>\n",
       "      <td>0.577712</td>\n",
       "      <td>-0.152834</td>\n",
       "      <td>-0.186376</td>\n",
       "      <td>-0.871695</td>\n",
       "      <td>0.429731</td>\n",
       "      <td>-0.203992</td>\n",
       "    </tr>\n",
       "    <tr>\n",
       "      <th>3</th>\n",
       "      <td>0.287638</td>\n",
       "      <td>-0.255861</td>\n",
       "      <td>-0.955254</td>\n",
       "      <td>-0.276125</td>\n",
       "      <td>0.507297</td>\n",
       "      <td>-0.713785</td>\n",
       "      <td>-0.792814</td>\n",
       "      <td>0.304605</td>\n",
       "      <td>0.512385</td>\n",
       "      <td>0.593509</td>\n",
       "      <td>...</td>\n",
       "      <td>0.395193</td>\n",
       "      <td>0.078521</td>\n",
       "      <td>-0.292274</td>\n",
       "      <td>-0.052589</td>\n",
       "      <td>0.707940</td>\n",
       "      <td>0.073170</td>\n",
       "      <td>0.241160</td>\n",
       "      <td>-0.376527</td>\n",
       "      <td>0.837106</td>\n",
       "      <td>-0.208183</td>\n",
       "    </tr>\n",
       "    <tr>\n",
       "      <th>4</th>\n",
       "      <td>0.110274</td>\n",
       "      <td>-0.468648</td>\n",
       "      <td>-0.711323</td>\n",
       "      <td>0.385441</td>\n",
       "      <td>0.000207</td>\n",
       "      <td>-0.125276</td>\n",
       "      <td>0.373834</td>\n",
       "      <td>0.493693</td>\n",
       "      <td>0.105543</td>\n",
       "      <td>-0.151489</td>\n",
       "      <td>...</td>\n",
       "      <td>0.421100</td>\n",
       "      <td>-0.273699</td>\n",
       "      <td>0.603266</td>\n",
       "      <td>0.416058</td>\n",
       "      <td>0.096052</td>\n",
       "      <td>0.026438</td>\n",
       "      <td>-0.191471</td>\n",
       "      <td>0.384894</td>\n",
       "      <td>0.748436</td>\n",
       "      <td>-0.659067</td>\n",
       "    </tr>\n",
       "  </tbody>\n",
       "</table>\n",
       "<p>5 rows × 150 columns</p>\n",
       "</div>"
      ],
      "text/plain": [
       "        0         1         2         3         4         5         6    \\\n",
       "0 -0.125173  0.148830 -0.377775 -0.471785 -0.271556 -0.423128 -0.734839   \n",
       "1 -0.760824  0.004937  0.079711  0.159034 -0.623385 -0.517148 -0.191461   \n",
       "2 -0.201314  0.295026 -0.338564  0.736514 -0.248719 -0.416360 -0.295105   \n",
       "3  0.287638 -0.255861 -0.955254 -0.276125  0.507297 -0.713785 -0.792814   \n",
       "4  0.110274 -0.468648 -0.711323  0.385441  0.000207 -0.125276  0.373834   \n",
       "\n",
       "        7         8         9    ...       140       141       142       143  \\\n",
       "0  0.063350 -0.386305  0.372330  ... -0.499286  0.228226 -0.070504  0.051677   \n",
       "1 -0.037132 -0.601697  0.932013  ...  0.011171  0.281666 -0.372281  0.687275   \n",
       "2  0.410672  0.047086 -0.319433  ...  0.226440  0.256878 -0.197057  0.324045   \n",
       "3  0.304605  0.512385  0.593509  ...  0.395193  0.078521 -0.292274 -0.052589   \n",
       "4  0.493693  0.105543 -0.151489  ...  0.421100 -0.273699  0.603266  0.416058   \n",
       "\n",
       "        144       145       146       147       148       149  \n",
       "0 -0.058609 -0.132868  0.032327  0.108723  0.325145  0.270169  \n",
       "1  0.252621  0.351640 -0.618454 -0.276499  0.392565 -0.235780  \n",
       "2  0.577712 -0.152834 -0.186376 -0.871695  0.429731 -0.203992  \n",
       "3  0.707940  0.073170  0.241160 -0.376527  0.837106 -0.208183  \n",
       "4  0.096052  0.026438 -0.191471  0.384894  0.748436 -0.659067  \n",
       "\n",
       "[5 rows x 150 columns]"
      ]
     },
     "execution_count": 15,
     "metadata": {},
     "output_type": "execute_result"
    }
   ],
   "source": [
    "df.head()"
   ]
  },
  {
   "cell_type": "code",
   "execution_count": 16,
   "metadata": {},
   "outputs": [],
   "source": [
    "from sklearn.model_selection import train_test_split \n",
    "\n",
    "train_X1, test_X1, train_y1, test_y1 = train_test_split(df, total_y, train_size=0.6)\n"
   ]
  },
  {
   "cell_type": "code",
   "execution_count": 17,
   "metadata": {},
   "outputs": [
    {
     "data": {
      "text/plain": [
       "LogisticRegression(solver='liblinear')"
      ]
     },
     "execution_count": 17,
     "metadata": {},
     "output_type": "execute_result"
    }
   ],
   "source": [
    "from sklearn.linear_model import LogisticRegression \n",
    "from sklearn.metrics import accuracy_score, f1_score, roc_auc_score\n",
    "lreg1 = LogisticRegression(solver='liblinear')\n",
    "lreg1.fit(train_X1,train_y1)"
   ]
  },
  {
   "cell_type": "code",
   "execution_count": 18,
   "metadata": {},
   "outputs": [],
   "source": [
    "# Y1 = train_df['target'].to_numpy().astype(np.float64)\n",
    "# Y1 = Y1[:N]\n",
    "\n",
    "# data = []\n",
    "# for i in range(N):\n",
    "#   data.append([sentences[i],Y1[i]])\n",
    "\n",
    "# import csv\n",
    "\n",
    "# with open('processed_train_data.csv','w',newline='') as fp:\n",
    "#   a = csv.writer(fp, delimiter=',')\n",
    "#   a.writerows(data)"
   ]
  },
  {
   "cell_type": "code",
   "execution_count": 23,
   "metadata": {},
   "outputs": [],
   "source": [
    "train_yhat1 = lreg1.predict_proba(train_X1)\n",
    "test_yhat1 = lreg1.predict_proba(test_X1)\n",
    "\n",
    "# print(\"training score = \", roc_auc_score(train_y1, train_yhat1[:,1]))\n",
    "# print(\"test score = \", roc_auc_score(test_y1,test_yhat1[:,1]))\n",
    "\n",
    "threshold = 0.125\n",
    "max = 0\n",
    "maxi = 0\n",
    "\n",
    "for i in range(100):\n",
    "    threshold += 0.001\n",
    "    train_output1 = (train_yhat1[:,1] > threshold).astype(int)\n",
    "    test_output1 = (test_yhat1[:,1] > threshold).astype(int)\n",
    "    if(f1_score(test_y1, test_output1)>max):\n",
    "        max = f1_score(test_y1, test_output1)\n",
    "        maxi = threshold"
   ]
  },
  {
   "cell_type": "code",
   "execution_count": 24,
   "metadata": {},
   "outputs": [
    {
     "name": "stdout",
     "output_type": "stream",
     "text": [
      "training score =  0.4490422662755674\n",
      "testing score =  0.4549782653694887\n"
     ]
    }
   ],
   "source": [
    "print(\"training score = \", f1_score(train_y1, train_output1))\n",
    "print(\"testing score = \", f1_score(test_y1, test_output1))"
   ]
  },
  {
   "cell_type": "code",
   "execution_count": 25,
   "metadata": {},
   "outputs": [
    {
     "name": "stdout",
     "output_type": "stream",
     "text": [
      "0.4649342517219788\n",
      "0.18300000000000005\n"
     ]
    }
   ],
   "source": [
    "print(max)\n",
    "print(maxi)"
   ]
  },
  {
   "cell_type": "code",
   "execution_count": 26,
   "metadata": {},
   "outputs": [
    {
     "name": "stdout",
     "output_type": "stream",
     "text": [
      "training score =  0.45880413086869737\n",
      "testing score =  0.4649342517219788\n"
     ]
    }
   ],
   "source": [
    "threshold = 0.18300000000000005\n",
    "\n",
    "train_output1 = (train_yhat1[:,1] > threshold).astype(int)\n",
    "test_output1 = (test_yhat1[:,1] > threshold).astype(int)\n",
    "\n",
    "print(\"training score = \", f1_score(train_y1, train_output1))\n",
    "print(\"testing score = \", f1_score(test_y1, test_output1))"
   ]
  },
  {
   "cell_type": "code",
   "execution_count": 38,
   "metadata": {},
   "outputs": [],
   "source": [
    "from sklearn.metrics import confusion_matrix, classification_report\n",
    "import seaborn as sns\n",
    "import matplotlib.pyplot as plt\n",
    "\n",
    "# Compute and plot the Confusion matrix\n",
    "def confusion_matrix_for_data(y_test, y_pred):\n",
    "    cf_matrix = confusion_matrix(y_test, y_pred)\n",
    "\n",
    "    categories  = ['Negative','Positive']\n",
    "    group_names = ['True Neg','False Pos', 'False Neg','True Pos']\n",
    "    group_percentages = ['{0:.2%}'.format(value) for value in cf_matrix.flatten() / np.sum(cf_matrix)]\n",
    "\n",
    "    labels = [f'{v1}\\n{v2}' for v1, v2 in zip(group_names,group_percentages)]\n",
    "    labels = np.asarray(labels).reshape(2,2)\n",
    "\n",
    "    sns.heatmap(cf_matrix, annot = labels, cmap = 'Blues',fmt = '',\n",
    "                xticklabels = categories, yticklabels = categories)\n",
    "\n",
    "    plt.xlabel(\"Predicted values\", fontdict = {'size':14}, labelpad = 10)\n",
    "    plt.ylabel(\"Actual values\"   , fontdict = {'size':14}, labelpad = 10)\n",
    "    plt.title (\"Confusion Matrix\", fontdict = {'size':18}, pad = 20)"
   ]
  },
  {
   "cell_type": "code",
   "execution_count": 39,
   "metadata": {},
   "outputs": [
    {
     "data": {
      "image/png": "[encoded data removed]",
      "text/plain": [
       "<Figure size 432x288 with 2 Axes>"
      ]
     },
     "metadata": {
      "needs_background": "light"
     },
     "output_type": "display_data"
    }
   ],
   "source": [
    "confusion_matrix_for_data(test_y1, test_output1)"
   ]
  }
 ],
 "metadata": {
  "interpreter": {
   "hash": "916dbcbb3f70747c44a77c7bcd40155683ae19c65e1c03b4aa3499c5328201f1"
  },
  "kernelspec": {
   "display_name": "Python 3.8.10 64-bit",
   "language": "python",
   "name": "python3"
  },
  "language_info": {
   "codemirror_mode": {
    "name": "ipython",
    "version": 3
   },
   "file_extension": ".py",
   "mimetype": "text/x-python",
   "name": "python",
   "nbconvert_exporter": "python",
   "pygments_lexer": "ipython3",
   "version": "3.8.10"
  },
  "orig_nbformat": 4
 },
 "nbformat": 4,
 "nbformat_minor": 2
}
