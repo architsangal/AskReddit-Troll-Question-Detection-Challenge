{
  "cells": [
    {
      "cell_type": "markdown",
      "metadata": {
        "id": "lx2nbe5zZ_-N"
      },
      "source": [
        "# AskReddit Troll Question Detection Challenge"
      ]
    },
    {
      "cell_type": "markdown",
      "metadata": {
        "id": "KXFHvvFiZ_-U"
      },
      "source": [
        "## Imports"
      ]
    },
    {
      "cell_type": "code",
      "execution_count": 460,
      "metadata": {
        "id": "fhlIiuWBZ_-U"
      },
      "outputs": [],
      "source": [
        "import numpy as np \n",
        "import pandas as pd\n",
        "from sklearn.feature_extraction.text import CountVectorizer\n",
        "from sklearn.feature_extraction.text import TfidfVectorizer\n",
        "from sklearn.linear_model import LogisticRegression \n",
        "from sklearn.metrics import accuracy_score, f1_score, roc_auc_score\n",
        "from sklearn.metrics import confusion_matrix, classification_report\n",
        "import seaborn as sns\n",
        "from wordcloud import WordCloud"
      ]
    },
    {
      "cell_type": "code",
      "execution_count": 461,
      "metadata": {
        "id": "rBUkOv3-Z_-Z"
      },
      "outputs": [
        {
          "data": {
            "text/html": [
              "<div>\n",
              "<style scoped>\n",
              "    .dataframe tbody tr th:only-of-type {\n",
              "        vertical-align: middle;\n",
              "    }\n",
              "\n",
              "    .dataframe tbody tr th {\n",
              "        vertical-align: top;\n",
              "    }\n",
              "\n",
              "    .dataframe thead th {\n",
              "        text-align: right;\n",
              "    }\n",
              "</style>\n",
              "<table border=\"1\" class=\"dataframe\">\n",
              "  <thead>\n",
              "    <tr style=\"text-align: right;\">\n",
              "      <th></th>\n",
              "      <th>question_text</th>\n",
              "      <th>target</th>\n",
              "    </tr>\n",
              "  </thead>\n",
              "  <tbody>\n",
              "    <tr>\n",
              "      <th>0</th>\n",
              "      <td>What is the role of Lua in Civ4?</td>\n",
              "      <td>0</td>\n",
              "    </tr>\n",
              "    <tr>\n",
              "      <th>1</th>\n",
              "      <td>What are important chapters in Kannada for 10 ...</td>\n",
              "      <td>0</td>\n",
              "    </tr>\n",
              "    <tr>\n",
              "      <th>2</th>\n",
              "      <td>Do musicians get royalties from YouTube?</td>\n",
              "      <td>0</td>\n",
              "    </tr>\n",
              "    <tr>\n",
              "      <th>3</th>\n",
              "      <td>What is the difference between Scaling Social ...</td>\n",
              "      <td>0</td>\n",
              "    </tr>\n",
              "    <tr>\n",
              "      <th>4</th>\n",
              "      <td>Why do elevators go super slow right before th...</td>\n",
              "      <td>0</td>\n",
              "    </tr>\n",
              "    <tr>\n",
              "      <th>...</th>\n",
              "      <td>...</td>\n",
              "      <td>...</td>\n",
              "    </tr>\n",
              "    <tr>\n",
              "      <th>653056</th>\n",
              "      <td>Which coaching centre is best in Delhi for IAS...</td>\n",
              "      <td>0</td>\n",
              "    </tr>\n",
              "    <tr>\n",
              "      <th>653057</th>\n",
              "      <td>Is their any API to check CIBIL score and down...</td>\n",
              "      <td>0</td>\n",
              "    </tr>\n",
              "    <tr>\n",
              "      <th>653058</th>\n",
              "      <td>In paranormal shows, why do spirits talk to me...</td>\n",
              "      <td>0</td>\n",
              "    </tr>\n",
              "    <tr>\n",
              "      <th>653059</th>\n",
              "      <td>How does Josh Gordon have such well developed ...</td>\n",
              "      <td>0</td>\n",
              "    </tr>\n",
              "    <tr>\n",
              "      <th>653060</th>\n",
              "      <td>In how many ways methane can be extracted?</td>\n",
              "      <td>0</td>\n",
              "    </tr>\n",
              "  </tbody>\n",
              "</table>\n",
              "<p>653061 rows × 2 columns</p>\n",
              "</div>"
            ],
            "text/plain": [
              "                                            question_text  target\n",
              "0                        What is the role of Lua in Civ4?       0\n",
              "1       What are important chapters in Kannada for 10 ...       0\n",
              "2                Do musicians get royalties from YouTube?       0\n",
              "3       What is the difference between Scaling Social ...       0\n",
              "4       Why do elevators go super slow right before th...       0\n",
              "...                                                   ...     ...\n",
              "653056  Which coaching centre is best in Delhi for IAS...       0\n",
              "653057  Is their any API to check CIBIL score and down...       0\n",
              "653058  In paranormal shows, why do spirits talk to me...       0\n",
              "653059  How does Josh Gordon have such well developed ...       0\n",
              "653060         In how many ways methane can be extracted?       0\n",
              "\n",
              "[653061 rows x 2 columns]"
            ]
          },
          "execution_count": 461,
          "metadata": {},
          "output_type": "execute_result"
        }
      ],
      "source": [
        "# To use data that is Lemmatized\n",
        "# train_df = pd.read_csv(\"processed_train_data.csv\")\n",
        "\n",
        "# To use data that is not Lemmatized\n",
        "train_df = pd.read_csv(\"train.csv\")\n",
        "train_df.head()\n",
        "train_df.drop(['qid'],axis=1)"
      ]
    },
    {
      "cell_type": "markdown",
      "metadata": {
        "id": "_J94ZCTaZ_-Z"
      },
      "source": [
        "## Preprocessing"
      ]
    },
    {
      "cell_type": "markdown",
      "metadata": {},
      "source": [
        "### Checking Duplicated and Null"
      ]
    },
    {
      "cell_type": "code",
      "execution_count": 462,
      "metadata": {},
      "outputs": [],
      "source": [
        "train_df.dropna(axis=1)\n",
        "train_df.drop_duplicates(inplace=True)"
      ]
    },
    {
      "cell_type": "markdown",
      "metadata": {
        "id": "OLiW_3JiZ_-a"
      },
      "source": [
        "### Dropping the qid"
      ]
    },
    {
      "cell_type": "code",
      "execution_count": 463,
      "metadata": {},
      "outputs": [
        {
          "data": {
            "text/html": [
              "<div>\n",
              "<style scoped>\n",
              "    .dataframe tbody tr th:only-of-type {\n",
              "        vertical-align: middle;\n",
              "    }\n",
              "\n",
              "    .dataframe tbody tr th {\n",
              "        vertical-align: top;\n",
              "    }\n",
              "\n",
              "    .dataframe thead th {\n",
              "        text-align: right;\n",
              "    }\n",
              "</style>\n",
              "<table border=\"1\" class=\"dataframe\">\n",
              "  <thead>\n",
              "    <tr style=\"text-align: right;\">\n",
              "      <th></th>\n",
              "      <th>qid</th>\n",
              "      <th>question_text</th>\n",
              "      <th>target</th>\n",
              "    </tr>\n",
              "  </thead>\n",
              "  <tbody>\n",
              "    <tr>\n",
              "      <th>0</th>\n",
              "      <td>a3dee568776c08512c89</td>\n",
              "      <td>What is the role of Lua in Civ4?</td>\n",
              "      <td>0</td>\n",
              "    </tr>\n",
              "    <tr>\n",
              "      <th>1</th>\n",
              "      <td>bdb84f519e7b46e7b7bb</td>\n",
              "      <td>What are important chapters in Kannada for 10 ...</td>\n",
              "      <td>0</td>\n",
              "    </tr>\n",
              "    <tr>\n",
              "      <th>2</th>\n",
              "      <td>29c88db470e2eb5c97ad</td>\n",
              "      <td>Do musicians get royalties from YouTube?</td>\n",
              "      <td>0</td>\n",
              "    </tr>\n",
              "    <tr>\n",
              "      <th>3</th>\n",
              "      <td>3387d99bf2c3227ae8f1</td>\n",
              "      <td>What is the difference between Scaling Social ...</td>\n",
              "      <td>0</td>\n",
              "    </tr>\n",
              "    <tr>\n",
              "      <th>4</th>\n",
              "      <td>e79fa5038f765d0f2e7e</td>\n",
              "      <td>Why do elevators go super slow right before th...</td>\n",
              "      <td>0</td>\n",
              "    </tr>\n",
              "  </tbody>\n",
              "</table>\n",
              "</div>"
            ],
            "text/plain": [
              "                    qid                                      question_text  \\\n",
              "0  a3dee568776c08512c89                   What is the role of Lua in Civ4?   \n",
              "1  bdb84f519e7b46e7b7bb  What are important chapters in Kannada for 10 ...   \n",
              "2  29c88db470e2eb5c97ad           Do musicians get royalties from YouTube?   \n",
              "3  3387d99bf2c3227ae8f1  What is the difference between Scaling Social ...   \n",
              "4  e79fa5038f765d0f2e7e  Why do elevators go super slow right before th...   \n",
              "\n",
              "   target  \n",
              "0       0  \n",
              "1       0  \n",
              "2       0  \n",
              "3       0  \n",
              "4       0  "
            ]
          },
          "execution_count": 463,
          "metadata": {},
          "output_type": "execute_result"
        }
      ],
      "source": [
        "train_df.head()"
      ]
    },
    {
      "cell_type": "markdown",
      "metadata": {},
      "source": [
        "### Data Balance Check"
      ]
    },
    {
      "cell_type": "code",
      "execution_count": 464,
      "metadata": {},
      "outputs": [
        {
          "data": {
            "text/html": [
              "<div>\n",
              "<style scoped>\n",
              "    .dataframe tbody tr th:only-of-type {\n",
              "        vertical-align: middle;\n",
              "    }\n",
              "\n",
              "    .dataframe tbody tr th {\n",
              "        vertical-align: top;\n",
              "    }\n",
              "\n",
              "    .dataframe thead th {\n",
              "        text-align: right;\n",
              "    }\n",
              "</style>\n",
              "<table border=\"1\" class=\"dataframe\">\n",
              "  <thead>\n",
              "    <tr style=\"text-align: right;\">\n",
              "      <th></th>\n",
              "      <th>qid</th>\n",
              "      <th>question_text</th>\n",
              "      <th>target</th>\n",
              "    </tr>\n",
              "  </thead>\n",
              "  <tbody>\n",
              "    <tr>\n",
              "      <th>0</th>\n",
              "      <td>a3dee568776c08512c89</td>\n",
              "      <td>What is the role of Lua in Civ4?</td>\n",
              "      <td>0</td>\n",
              "    </tr>\n",
              "    <tr>\n",
              "      <th>1</th>\n",
              "      <td>bdb84f519e7b46e7b7bb</td>\n",
              "      <td>What are important chapters in Kannada for 10 ...</td>\n",
              "      <td>0</td>\n",
              "    </tr>\n",
              "    <tr>\n",
              "      <th>2</th>\n",
              "      <td>29c88db470e2eb5c97ad</td>\n",
              "      <td>Do musicians get royalties from YouTube?</td>\n",
              "      <td>0</td>\n",
              "    </tr>\n",
              "    <tr>\n",
              "      <th>3</th>\n",
              "      <td>3387d99bf2c3227ae8f1</td>\n",
              "      <td>What is the difference between Scaling Social ...</td>\n",
              "      <td>0</td>\n",
              "    </tr>\n",
              "    <tr>\n",
              "      <th>4</th>\n",
              "      <td>e79fa5038f765d0f2e7e</td>\n",
              "      <td>Why do elevators go super slow right before th...</td>\n",
              "      <td>0</td>\n",
              "    </tr>\n",
              "  </tbody>\n",
              "</table>\n",
              "</div>"
            ],
            "text/plain": [
              "                    qid                                      question_text  \\\n",
              "0  a3dee568776c08512c89                   What is the role of Lua in Civ4?   \n",
              "1  bdb84f519e7b46e7b7bb  What are important chapters in Kannada for 10 ...   \n",
              "2  29c88db470e2eb5c97ad           Do musicians get royalties from YouTube?   \n",
              "3  3387d99bf2c3227ae8f1  What is the difference between Scaling Social ...   \n",
              "4  e79fa5038f765d0f2e7e  Why do elevators go super slow right before th...   \n",
              "\n",
              "   target  \n",
              "0       0  \n",
              "1       0  \n",
              "2       0  \n",
              "3       0  \n",
              "4       0  "
            ]
          },
          "execution_count": 464,
          "metadata": {},
          "output_type": "execute_result"
        },
        {
          "data": {
            "image/png": "[encoded data removed]",
            "text/plain": [
              "<Figure size 432x288 with 1 Axes>"
            ]
          },
          "metadata": {
            "needs_background": "light"
          },
          "output_type": "display_data"
        }
      ],
      "source": [
        "import matplotlib.pyplot as plt\n",
        "\n",
        "# Plotting the distribution for dataset.\n",
        "ax = train_df.groupby('target').count().plot(kind='bar', title='Distribution of data',legend=False)\n",
        "ax.set_xticklabels(['0','1'], rotation=0)\n",
        "\n",
        "sentences = train_df['question_text'].values.astype('U')\n",
        "sentences = sentences.tolist()\n",
        "train_df.head()"
      ]
    },
    {
      "cell_type": "markdown",
      "metadata": {},
      "source": [
        "Hence, we need to balance the data some how.\n",
        "\n",
        "- As the data is in string so we cannot do balancing of data right now.\n",
        "- We cannot duplicate the data here as in that case we will affect the vectorisation of the base data (We tried but that didn't work well).\n",
        "- Now we will first vectorize the data and then use balancing data techniques."
      ]
    },
    {
      "cell_type": "markdown",
      "metadata": {},
      "source": [
        "### Splitting Data"
      ]
    },
    {
      "cell_type": "code",
      "execution_count": 465,
      "metadata": {},
      "outputs": [],
      "source": [
        "from sklearn.model_selection import train_test_split \n",
        "\n",
        "train_X, test_X, train_y, test_y = train_test_split(train_df.drop(['target'],axis=1),train_df['target'] , train_size=0.6)"
      ]
    },
    {
      "cell_type": "code",
      "execution_count": 466,
      "metadata": {},
      "outputs": [],
      "source": [
        "majority_class = train_X[train_y==0]\n",
        "minority_class = train_X[train_y==1]\n",
        "\n",
        "# print(minority_class[0:10])\n",
        "\n",
        "majority_class = majority_class['question_text'].values.astype('U')\n",
        "majority_class = majority_class.tolist()\n",
        "\n",
        "minority_class = minority_class['question_text'].values.astype('U')\n",
        "minority_class = minority_class.tolist()"
      ]
    },
    {
      "cell_type": "markdown",
      "metadata": {},
      "source": [
        "### Balancing Data"
      ]
    },
    {
      "cell_type": "code",
      "execution_count": 467,
      "metadata": {},
      "outputs": [],
      "source": [
        "# temp = []\n",
        "# for i in range(2):\n",
        "#     temp = temp+minority_class\n",
        "\n",
        "# minority_class = temp\n",
        "\n",
        "fraction = 0.56\n",
        "majority_class = majority_class[0:int(len(majority_class)*fraction)]"
      ]
    },
    {
      "cell_type": "markdown",
      "metadata": {},
      "source": [
        "### Word Cloud Charts"
      ]
    },
    {
      "cell_type": "code",
      "execution_count": 468,
      "metadata": {},
      "outputs": [],
      "source": [
        "# plt.figure(figsize = (10,10))\n",
        "# wc = WordCloud(max_words = 1000 , width = 1600 , height = 800,collocations=False).generate(\" \".join(majority_class))\n",
        "# plt.imshow(wc)"
      ]
    },
    {
      "cell_type": "code",
      "execution_count": 469,
      "metadata": {},
      "outputs": [],
      "source": [
        "# plt.figure(figsize = (10,10))\n",
        "# wc = WordCloud(max_words = 1000 , width = 1600 , height = 800,collocations=False).generate(\" \".join(minority_class))\n",
        "# plt.imshow(wc)"
      ]
    },
    {
      "cell_type": "markdown",
      "metadata": {},
      "source": [
        "### Making the vocabulary"
      ]
    },
    {
      "cell_type": "code",
      "execution_count": 470,
      "metadata": {},
      "outputs": [],
      "source": [
        "words_maj = []\n",
        "\n",
        "for sentence in majority_class:\n",
        "    for word in sentence.split():\n",
        "        words_maj.append(word)"
      ]
    },
    {
      "cell_type": "code",
      "execution_count": 471,
      "metadata": {},
      "outputs": [],
      "source": [
        "words_min = []\n",
        "\n",
        "for sentence in minority_class:\n",
        "    for word in sentence.split():\n",
        "        words_min.append(word)"
      ]
    },
    {
      "cell_type": "code",
      "execution_count": 472,
      "metadata": {},
      "outputs": [
        {
          "name": "stdout",
          "output_type": "stream",
          "text": [
            "155485\n",
            "0\n",
            "155485\n"
          ]
        }
      ],
      "source": [
        "import collections\n",
        "\n",
        "frequency_maj = collections.Counter(words_maj)\n",
        "frequency_maj = dict(frequency_maj)\n",
        "item_to_be_deleted = []\n",
        "for i in frequency_maj:\n",
        "    if(frequency_maj[i]<=0):\n",
        "        item_to_be_deleted.append(i)\n",
        "    # if(frequency_maj[i] == 20):\n",
        "    #     print(i)\n",
        "\n",
        "print(len(frequency_maj))\n",
        "print(len(item_to_be_deleted))\n",
        "print(len(frequency_maj)-len(item_to_be_deleted))\n",
        "\n",
        "\n",
        "for i in item_to_be_deleted:\n",
        "    frequency_maj.pop(i)"
      ]
    },
    {
      "cell_type": "code",
      "execution_count": 473,
      "metadata": {},
      "outputs": [
        {
          "name": "stdout",
          "output_type": "stream",
          "text": [
            "41448\n",
            "0\n",
            "41448\n"
          ]
        }
      ],
      "source": [
        "import collections\n",
        "\n",
        "frequency_min = collections.Counter(words_min)\n",
        "frequency_min = dict(frequency_min)\n",
        "item_to_be_deleted = []\n",
        "# frequency_min.sort()\n",
        "for i in frequency_min:\n",
        "    if(frequency_min[i]<=0):\n",
        "        item_to_be_deleted.append(i)\n",
        "    # if(frequency_min[i] == 10):\n",
        "    #     print(i)\n",
        "\n",
        "print(len(frequency_min))\n",
        "print(len(item_to_be_deleted))\n",
        "print(len(frequency_min)-len(item_to_be_deleted))\n",
        "\n",
        "for i in item_to_be_deleted:\n",
        "    frequency_min.pop(i)"
      ]
    },
    {
      "cell_type": "code",
      "execution_count": 474,
      "metadata": {},
      "outputs": [],
      "source": [
        "vocab_maj = []\n",
        "for i in frequency_maj:\n",
        "    vocab_maj.append(i)\n",
        "\n",
        "vocab_min = []\n",
        "for i in frequency_min:\n",
        "    vocab_min.append(i)\n",
        "\n",
        "# print(vocab)"
      ]
    },
    {
      "cell_type": "code",
      "execution_count": 475,
      "metadata": {},
      "outputs": [],
      "source": [
        "y1_zeros = []\n",
        "for i in range(len(majority_class)):\n",
        "    y1_zeros.append(0)\n",
        "y2_ones = []\n",
        "for i in range(len(minority_class)):\n",
        "    y2_ones.append(1)\n",
        "train_X = majority_class+minority_class\n",
        "train_y = y1_zeros+y2_ones"
      ]
    },
    {
      "cell_type": "markdown",
      "metadata": {},
      "source": [
        "### Spilting Data"
      ]
    },
    {
      "cell_type": "code",
      "execution_count": 476,
      "metadata": {},
      "outputs": [
        {
          "name": "stdout",
          "output_type": "stream",
          "text": [
            "[205833  24276]\n"
          ]
        },
        {
          "data": {
            "image/png": "[encoded data removed]",
            "text/plain": [
              "<Figure size 432x288 with 1 Axes>"
            ]
          },
          "metadata": {
            "needs_background": "light"
          },
          "output_type": "display_data"
        }
      ],
      "source": [
        "# Plotting the distribution for dataset.\n",
        "train_y_list = train_y\n",
        "train_y_list = [str(int(i)) for i in train_y_list]\n",
        "\n",
        "value, freq = np.unique(train_y_list,return_counts=True)\n",
        "print(freq)\n",
        "\n",
        "plt.bar(value,freq,align='center')\n",
        "plt.xlabel('Outputs')\n",
        "plt.ylabel('Frequency')\n",
        "for i in range(len(freq)):\n",
        "    plt.hlines(freq[i],1,value[i])\n",
        "plt.show()"
      ]
    },
    {
      "cell_type": "markdown",
      "metadata": {
        "id": "SGCFlwCKZ_-e"
      },
      "source": [
        "## Vectoring Words"
      ]
    },
    {
      "cell_type": "code",
      "execution_count": 477,
      "metadata": {},
      "outputs": [
        {
          "name": "stdout",
          "output_type": "stream",
          "text": [
            "170617\n"
          ]
        }
      ],
      "source": [
        "vocab = vocab_maj+vocab_min\n",
        "vocab = set(vocab)\n",
        "\n",
        "print(len(vocab))\n",
        "\n",
        "test_X = test_X['question_text'].values.astype('U')\n",
        "test_X = test_X.tolist()"
      ]
    },
    {
      "cell_type": "markdown",
      "metadata": {
        "id": "T7Q_4MUsZ_-f"
      },
      "source": [
        "### Bag Of Words"
      ]
    },
    {
      "cell_type": "code",
      "execution_count": 478,
      "metadata": {
        "id": "H2wvKev9Z_-f"
      },
      "outputs": [],
      "source": [
        "cv = CountVectorizer(vocabulary=vocab,lowercase=False,ngram_range=(1,4))\n",
        "cv.fit(train_X)\n",
        "X1_train = cv.transform(train_X)\n",
        "X1_test = cv.transform(test_X)"
      ]
    },
    {
      "cell_type": "code",
      "execution_count": 479,
      "metadata": {
        "id": "vmSDQ3SQcgM0"
      },
      "outputs": [],
      "source": [
        "X1_train = X1_train.astype(float)\n",
        "X1_test = X1_test.astype(float)"
      ]
    },
    {
      "cell_type": "markdown",
      "metadata": {
        "id": "-DL54RsIZ_-f"
      },
      "source": [
        "### TF IDF"
      ]
    },
    {
      "cell_type": "code",
      "execution_count": 480,
      "metadata": {
        "id": "mslJKymTZ_-f"
      },
      "outputs": [],
      "source": [
        "cv = TfidfVectorizer(vocabulary=vocab,lowercase=False,stop_words='english')\n",
        "cv.fit(train_X)\n",
        "X2_train = cv.transform(train_X)\n",
        "X2_test = cv.transform(test_X)"
      ]
    },
    {
      "cell_type": "code",
      "execution_count": 481,
      "metadata": {
        "id": "Lj34PL32colU"
      },
      "outputs": [],
      "source": [
        "X2_train = X2_train.astype(float)\n",
        "X2_test = X2_test.astype(float)"
      ]
    },
    {
      "cell_type": "markdown",
      "metadata": {
        "id": "Eze130ezqBb_"
      },
      "source": [
        "## Model generation"
      ]
    },
    {
      "cell_type": "markdown",
      "metadata": {
        "id": "E6rUXyvQqIm-"
      },
      "source": [
        "### For data genrated by \"Bag of words\" method  "
      ]
    },
    {
      "cell_type": "code",
      "execution_count": 482,
      "metadata": {
        "id": "xuwqd1rAp3dd"
      },
      "outputs": [
        {
          "data": {
            "text/plain": [
              "LogisticRegression(solver='liblinear')"
            ]
          },
          "execution_count": 482,
          "metadata": {},
          "output_type": "execute_result"
        }
      ],
      "source": [
        "lreg1 = LogisticRegression(solver='liblinear')\n",
        "lreg1.fit(X1_train,train_y)"
      ]
    },
    {
      "cell_type": "markdown",
      "metadata": {
        "id": "RUYqt4NSqU2n"
      },
      "source": [
        "### For data generated by \"TD IDF\" method"
      ]
    },
    {
      "cell_type": "code",
      "execution_count": 483,
      "metadata": {
        "id": "iGQrUb81p6yD"
      },
      "outputs": [
        {
          "data": {
            "text/plain": [
              "LogisticRegression(solver='liblinear')"
            ]
          },
          "execution_count": 483,
          "metadata": {},
          "output_type": "execute_result"
        }
      ],
      "source": [
        "lreg2 = LogisticRegression(solver='liblinear')\n",
        "lreg2.fit(X2_train,train_y)"
      ]
    },
    {
      "cell_type": "markdown",
      "metadata": {},
      "source": [
        "### Confusion Matrix"
      ]
    },
    {
      "cell_type": "code",
      "execution_count": 484,
      "metadata": {},
      "outputs": [],
      "source": [
        "# Compute and plot the Confusion matrix\n",
        "def confusion_matrix_for_data(y_test, y_pred):\n",
        "    cf_matrix = confusion_matrix(y_test, y_pred)\n",
        "\n",
        "    categories  = ['Negative','Positive']\n",
        "    group_names = ['True Neg','False Pos', 'False Neg','True Pos']\n",
        "    group_percentages = ['{0:.2%}'.format(value) for value in cf_matrix.flatten() / np.sum(cf_matrix)]\n",
        "\n",
        "    labels = [f'{v1}\\n{v2}' for v1, v2 in zip(group_names,group_percentages)]\n",
        "    labels = np.asarray(labels).reshape(2,2)\n",
        "\n",
        "    sns.heatmap(cf_matrix, annot = labels, cmap = 'Blues',fmt = '',\n",
        "                xticklabels = categories, yticklabels = categories)\n",
        "\n",
        "    plt.xlabel(\"Predicted values\", fontdict = {'size':14}, labelpad = 10)\n",
        "    plt.ylabel(\"Actual values\"   , fontdict = {'size':14}, labelpad = 10)\n",
        "    plt.title (\"Confusion Matrix\", fontdict = {'size':18}, pad = 20)"
      ]
    },
    {
      "cell_type": "markdown",
      "metadata": {
        "id": "9l8Fkxpa16hQ"
      },
      "source": [
        "### Predict for X1, Y1"
      ]
    },
    {
      "cell_type": "code",
      "execution_count": 485,
      "metadata": {
        "id": "LUEcmzS71ogz"
      },
      "outputs": [
        {
          "name": "stdout",
          "output_type": "stream",
          "text": [
            "training score =  0.9767623123474041\n",
            "test score =  0.9420597062013721\n",
            "0.56\n",
            "0.35389999999999955\n",
            "0.6016590389016019\n"
          ]
        }
      ],
      "source": [
        "train_yhat1 = lreg1.predict_proba(X1_train)\n",
        "test_yhat1 = lreg1.predict_proba(X1_test)\n",
        "\n",
        "# print(X1_test.shape)\n",
        "\n",
        "print(\"training score = \", roc_auc_score(train_y, train_yhat1[:,1]))\n",
        "print(\"test score = \", roc_auc_score(test_y,test_yhat1[:,1]))\n",
        "\n",
        "max = 0\n",
        "max_th = 0.35\n",
        "threshold = 0.35\n",
        "\n",
        "for i in range(200):\n",
        "    threshold += 0.0001\n",
        "    train_output1 = (train_yhat1[:,1] > threshold).astype(int)\n",
        "    test_output1 = (test_yhat1[:,1] > threshold).astype(int)\n",
        "    comp = f1_score(test_y, test_output1)\n",
        "    if comp>max:\n",
        "        max = comp\n",
        "        max_th = threshold\n",
        "\n",
        "print(fraction)\n",
        "print(max_th)\n",
        "print(max)\n",
        "\n",
        "#0.6\n",
        "#0.32849999999999907\n",
        "#0.6011527868480081\n",
        "\n",
        "# 0.58\n",
        "# 0.3387999999999995\n",
        "# 0.6035192600530146\n",
        "\n",
        "# 0.56\n",
        "# 0.35199999999999976\n",
        "# 0.6062833840675435\n",
        "\n",
        "# 0.55\n",
        "# 0.33549999999999985\n",
        "# 0.6070404897732017\n",
        "\n",
        "# 0.54\n",
        "# 0.3605999999999999\n",
        "# 0.6041045729370689\n",
        "\n",
        "# 0.53\n",
        "# 0.3420999999999991\n",
        "# 0.6037390943082676\n",
        "\n",
        "#0.5\n",
        "#0.3399999999999978\n",
        "#0.6051198699715562"
      ]
    },
    {
      "cell_type": "code",
      "execution_count": 486,
      "metadata": {},
      "outputs": [
        {
          "name": "stdout",
          "output_type": "stream",
          "text": [
            "0.3699999999999978\n",
            "training score =  0.7843588991747998\n",
            "              precision    recall  f1-score   support\n",
            "\n",
            "           0       0.97      0.98      0.98    205833\n",
            "           1       0.80      0.77      0.78     24276\n",
            "\n",
            "    accuracy                           0.96    230109\n",
            "   macro avg       0.89      0.87      0.88    230109\n",
            "weighted avg       0.95      0.96      0.95    230109\n",
            " \n",
            "\n",
            "testing score =  0.6009949669798971\n",
            "              precision    recall  f1-score   support\n",
            "\n",
            "           0       0.98      0.97      0.97    245096\n",
            "           1       0.57      0.64      0.60     16129\n",
            "\n",
            "    accuracy                           0.95    261225\n",
            "   macro avg       0.77      0.80      0.79    261225\n",
            "weighted avg       0.95      0.95      0.95    261225\n",
            " \n",
            "\n"
          ]
        }
      ],
      "source": [
        "print(threshold)\n",
        "print(\"training score = \", f1_score(train_y, train_output1))\n",
        "print(classification_report(train_y, train_output1),'\\n')\n",
        "\n",
        "print(\"testing score = \", f1_score(test_y, test_output1))\n",
        "print(classification_report(test_y, test_output1),'\\n')"
      ]
    },
    {
      "cell_type": "code",
      "execution_count": 487,
      "metadata": {},
      "outputs": [
        {
          "data": {
            "image/png": "[encoded data removed]",
            "text/plain": [
              "<Figure size 432x288 with 2 Axes>"
            ]
          },
          "metadata": {
            "needs_background": "light"
          },
          "output_type": "display_data"
        }
      ],
      "source": [
        "confusion_matrix_for_data(train_y, train_output1)"
      ]
    },
    {
      "cell_type": "code",
      "execution_count": 488,
      "metadata": {},
      "outputs": [
        {
          "data": {
            "image/png": "[encoded data removed]",
            "text/plain": [
              "<Figure size 432x288 with 2 Axes>"
            ]
          },
          "metadata": {
            "needs_background": "light"
          },
          "output_type": "display_data"
        }
      ],
      "source": [
        "confusion_matrix_for_data(test_y, test_output1)"
      ]
    },
    {
      "cell_type": "markdown",
      "metadata": {
        "id": "qE74zYa62MfV"
      },
      "source": [
        "### Predict for X2, Y2"
      ]
    },
    {
      "cell_type": "code",
      "execution_count": 489,
      "metadata": {
        "id": "vdTbUQBz2QkI"
      },
      "outputs": [],
      "source": [
        "train_yhat2 = lreg2.predict_proba(X2_train)\n",
        "test_yhat2 = lreg2.predict_proba(X2_test)\n",
        "\n",
        "# print(\"training score = \", roc_auc_score(train_y2, train_yhat2[:,1]))\n",
        "# print(\"test score = \", roc_auc_score(test_y2,test_yhat2[:,1]))\n",
        "\n",
        "train_output2 = (train_yhat2[:,1] > threshold).astype(int)\n",
        "test_output2 = (test_yhat2[:,1] > threshold).astype(int)\n",
        "\n",
        "test_y = test_y.astype(int)"
      ]
    },
    {
      "cell_type": "code",
      "execution_count": 490,
      "metadata": {},
      "outputs": [
        {
          "name": "stdout",
          "output_type": "stream",
          "text": [
            "training score =  0.7050950570342205\n",
            "              precision    recall  f1-score   support\n",
            "\n",
            "           0       0.96      0.97      0.97    205833\n",
            "           1       0.75      0.67      0.71     24276\n",
            "\n",
            "    accuracy                           0.94    230109\n",
            "   macro avg       0.85      0.82      0.84    230109\n",
            "weighted avg       0.94      0.94      0.94    230109\n",
            " \n",
            "\n",
            "testing score =  0.5807777049961294\n",
            "              precision    recall  f1-score   support\n",
            "\n",
            "           0       0.97      0.97      0.97    245096\n",
            "           1       0.56      0.60      0.58     16129\n",
            "\n",
            "    accuracy                           0.95    261225\n",
            "   macro avg       0.77      0.79      0.78    261225\n",
            "weighted avg       0.95      0.95      0.95    261225\n",
            "\n"
          ]
        }
      ],
      "source": [
        "print(\"training score = \", f1_score(train_y, train_output2))\n",
        "print(classification_report(train_y, train_output2),'\\n')\n",
        "\n",
        "print(\"testing score = \", f1_score(test_y, test_output2))\n",
        "print(classification_report(test_y, test_output2))"
      ]
    },
    {
      "cell_type": "code",
      "execution_count": 491,
      "metadata": {},
      "outputs": [
        {
          "data": {
            "image/png": "[encoded data removed]",
            "text/plain": [
              "<Figure size 432x288 with 2 Axes>"
            ]
          },
          "metadata": {
            "needs_background": "light"
          },
          "output_type": "display_data"
        }
      ],
      "source": [
        "confusion_matrix_for_data(train_y, train_output2)"
      ]
    },
    {
      "cell_type": "code",
      "execution_count": 492,
      "metadata": {},
      "outputs": [
        {
          "data": {
            "image/png": "[encoded data removed]",
            "text/plain": [
              "<Figure size 432x288 with 2 Axes>"
            ]
          },
          "metadata": {
            "needs_background": "light"
          },
          "output_type": "display_data"
        }
      ],
      "source": [
        "confusion_matrix_for_data(test_y, test_output2)"
      ]
    }
  ],
  "metadata": {
    "colab": {
      "collapsed_sections": [],
      "name": "v1.ipynb",
      "provenance": []
    },
    "interpreter": {
      "hash": "916dbcbb3f70747c44a77c7bcd40155683ae19c65e1c03b4aa3499c5328201f1"
    },
    "kernelspec": {
      "display_name": "Python 3.8.10 64-bit",
      "language": "python",
      "name": "python3"
    },
    "language_info": {
      "codemirror_mode": {
        "name": "ipython",
        "version": 3
      },
      "file_extension": ".py",
      "mimetype": "text/x-python",
      "name": "python",
      "nbconvert_exporter": "python",
      "pygments_lexer": "ipython3",
      "version": "3.8.10"
    },
    "orig_nbformat": 4
  },
  "nbformat": 4,
  "nbformat_minor": 0
}
