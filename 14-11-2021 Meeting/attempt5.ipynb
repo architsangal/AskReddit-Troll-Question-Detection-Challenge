{
  "cells": [
    {
      "cell_type": "markdown",
      "metadata": {
        "id": "lx2nbe5zZ_-N"
      },
      "source": [
        "# AskReddit Troll Question Detection Challenge"
      ]
    },
    {
      "cell_type": "markdown",
      "metadata": {
        "id": "KXFHvvFiZ_-U"
      },
      "source": [
        "## Imports"
      ]
    },
    {
      "cell_type": "code",
      "execution_count": 32,
      "metadata": {
        "id": "fhlIiuWBZ_-U"
      },
      "outputs": [],
      "source": [
        "import numpy as np \n",
        "import pandas as pd\n",
        "import sklearn\n",
        "from sklearn.feature_extraction.text import CountVectorizer\n",
        "from sklearn.feature_extraction.text import TfidfVectorizer\n",
        "import re\n",
        "from sklearn.metrics import confusion_matrix, classification_report\n",
        "import matplotlib.pyplot as plt\n",
        "import seaborn as sns"
      ]
    },
    {
      "cell_type": "code",
      "execution_count": 33,
      "metadata": {
        "colab": {
          "base_uri": "https://localhost:8080/"
        },
        "id": "KDrBqoiNZ_-X",
        "outputId": "c40b4b25-b8cb-49ba-dcd4-cc6a92ab4ced"
      },
      "outputs": [],
      "source": [
        "\n",
        "import nltk # for tokenizing the paragraphs in sentences and sentences in words\n",
        "from nltk.stem import WordNetLemmatizer\n",
        "from nltk.corpus import stopwords"
      ]
    },
    {
      "cell_type": "code",
      "execution_count": 34,
      "metadata": {
        "colab": {
          "base_uri": "https://localhost:8080/"
        },
        "id": "9ocHtsZhZ_-X",
        "outputId": "3f4da35a-6e3c-474d-fdc1-e8dc94e362c3"
      },
      "outputs": [
        {
          "name": "stderr",
          "output_type": "stream",
          "text": [
            "[nltk_data] Downloading package punkt to /home/archit/nltk_data...\n",
            "[nltk_data]   Package punkt is already up-to-date!\n",
            "[nltk_data] Downloading package stopwords to /home/archit/nltk_data...\n",
            "[nltk_data]   Package stopwords is already up-to-date!\n",
            "[nltk_data] Downloading package wordnet to /home/archit/nltk_data...\n",
            "[nltk_data]   Package wordnet is already up-to-date!\n"
          ]
        },
        {
          "data": {
            "text/plain": [
              "True"
            ]
          },
          "execution_count": 34,
          "metadata": {},
          "output_type": "execute_result"
        }
      ],
      "source": [
        "nltk.download('punkt')\n",
        "nltk.download('stopwords')\n",
        "nltk.download('wordnet')"
      ]
    },
    {
      "cell_type": "code",
      "execution_count": 35,
      "metadata": {
        "id": "rBUkOv3-Z_-Z"
      },
      "outputs": [],
      "source": [
        "train_df = pd.read_csv(\"train.csv\")"
      ]
    },
    {
      "cell_type": "markdown",
      "metadata": {
        "id": "_J94ZCTaZ_-Z"
      },
      "source": [
        "## Preprocessing"
      ]
    },
    {
      "cell_type": "markdown",
      "metadata": {
        "id": "OLiW_3JiZ_-a"
      },
      "source": [
        "### Dropping the qid"
      ]
    },
    {
      "cell_type": "code",
      "execution_count": 36,
      "metadata": {
        "id": "cx1MhOldZ_-b"
      },
      "outputs": [],
      "source": [
        "train_df.drop(columns=[\"qid\"],inplace=True)\n",
        "sentences = train_df['question_text'].tolist()"
      ]
    },
    {
      "cell_type": "code",
      "execution_count": 37,
      "metadata": {
        "colab": {
          "base_uri": "https://localhost:8080/"
        },
        "id": "NZ3OL3ubZ_-c",
        "outputId": "6eb2fff1-001b-48f7-ce16-1998c332d3cf"
      },
      "outputs": [],
      "source": [
        "N = 653061\n",
        "sentences = sentences[0:N]"
      ]
    },
    {
      "cell_type": "markdown",
      "metadata": {
        "id": "x-VUUbh5Z_-c"
      },
      "source": [
        "### Cleaning the data\n",
        "\n",
        "- Like removing !?., etc.\n",
        "- converting sentences to lower case"
      ]
    },
    {
      "cell_type": "code",
      "execution_count": 38,
      "metadata": {
        "id": "bDlxrDDYZ_-d"
      },
      "outputs": [],
      "source": [
        "# i=0\n",
        "# for sentence in sentences:\n",
        "#     temp = re.sub('[^a-zA-Z0-9]', ' ', sentence)\n",
        "#     temp = temp.lower()\n",
        "#     new_sentence = temp.split()\n",
        "#     new_sentence = ' '.join(new_sentence)\n",
        "#     sentences[i] = new_sentence\n",
        "#     # print(new_sentence)\n",
        "#     i+=1"
      ]
    },
    {
      "cell_type": "markdown",
      "metadata": {
        "id": "SGCFlwCKZ_-e"
      },
      "source": [
        "## Vectoring Words"
      ]
    },
    {
      "cell_type": "markdown",
      "metadata": {
        "id": "T7Q_4MUsZ_-f"
      },
      "source": [
        "### Bag Of Words"
      ]
    },
    {
      "cell_type": "code",
      "execution_count": 39,
      "metadata": {
        "id": "H2wvKev9Z_-f"
      },
      "outputs": [],
      "source": [
        "# TODO max_features = 1500 may need to be altered\n",
        "cv = CountVectorizer(ngram_range = (1,3))\n",
        "X1 = cv.fit_transform(sentences)"
      ]
    },
    {
      "cell_type": "code",
      "execution_count": 40,
      "metadata": {
        "id": "vmSDQ3SQcgM0"
      },
      "outputs": [],
      "source": [
        "# print(type(X1))\n",
        "# print(X1.dtype)\n",
        "# X1 = X1.astype(float)\n",
        "# print(X1.dtype)"
      ]
    },
    {
      "cell_type": "code",
      "execution_count": 41,
      "metadata": {
        "id": "IW7S45TpnoLu"
      },
      "outputs": [],
      "source": [
        "Y1 = train_df['target'].to_numpy().astype(np.float64)\n",
        "Y1 = Y1[:N]"
      ]
    },
    {
      "cell_type": "markdown",
      "metadata": {
        "id": "-DL54RsIZ_-f"
      },
      "source": [
        "### TF IDF"
      ]
    },
    {
      "cell_type": "code",
      "execution_count": 42,
      "metadata": {
        "id": "mslJKymTZ_-f"
      },
      "outputs": [],
      "source": [
        "cv = TfidfVectorizer(ngram_range = (1,3))\n",
        "X2 = cv.fit_transform(sentences)\n",
        "# print(X2)"
      ]
    },
    {
      "cell_type": "code",
      "execution_count": 43,
      "metadata": {
        "id": "Lj34PL32colU"
      },
      "outputs": [
        {
          "name": "stdout",
          "output_type": "stream",
          "text": [
            "<class 'scipy.sparse.csr.csr_matrix'>\n",
            "float64\n"
          ]
        }
      ],
      "source": [
        "print(type(X2))\n",
        "X2 = X2.astype(float)\n",
        "print(X2.dtype)"
      ]
    },
    {
      "cell_type": "code",
      "execution_count": 44,
      "metadata": {
        "id": "nFKeWdk0oTw6"
      },
      "outputs": [],
      "source": [
        "Y2 = Y1"
      ]
    },
    {
      "cell_type": "markdown",
      "metadata": {
        "id": "LWB94h8TZ_-g"
      },
      "source": [
        "### Train test split data"
      ]
    },
    {
      "cell_type": "code",
      "execution_count": 45,
      "metadata": {
        "id": "bsgQdc0DZ_-g"
      },
      "outputs": [],
      "source": [
        "from sklearn.model_selection import train_test_split \n",
        "\n",
        "train_X1, test_X1, train_y1, test_y1 = train_test_split(X1, Y1, train_size=0.6)\n",
        "\n",
        "train_X2, test_X2, train_y2, test_y2 = train_test_split(X2, Y2, train_size=0.6)"
      ]
    },
    {
      "cell_type": "markdown",
      "metadata": {
        "id": "Eze130ezqBb_"
      },
      "source": [
        "## Model generation"
      ]
    },
    {
      "cell_type": "code",
      "execution_count": 46,
      "metadata": {
        "id": "rn2kPLNFpKIB"
      },
      "outputs": [],
      "source": [
        "from sklearn.linear_model import LogisticRegression \n",
        "from sklearn.metrics import accuracy_score, f1_score, roc_auc_score"
      ]
    },
    {
      "cell_type": "markdown",
      "metadata": {
        "id": "E6rUXyvQqIm-"
      },
      "source": [
        "### For data genrated by \"Bag of words\" method  "
      ]
    },
    {
      "cell_type": "code",
      "execution_count": 47,
      "metadata": {
        "id": "xuwqd1rAp3dd"
      },
      "outputs": [
        {
          "data": {
            "text/plain": [
              "LogisticRegression(solver='liblinear')"
            ]
          },
          "execution_count": 47,
          "metadata": {},
          "output_type": "execute_result"
        }
      ],
      "source": [
        "lreg1 = LogisticRegression(solver='liblinear')\n",
        "lreg1.fit(train_X1,train_y1)"
      ]
    },
    {
      "cell_type": "markdown",
      "metadata": {
        "id": "RUYqt4NSqU2n"
      },
      "source": [
        "### For data generated by \"TD IDF\" method"
      ]
    },
    {
      "cell_type": "code",
      "execution_count": 48,
      "metadata": {
        "id": "iGQrUb81p6yD"
      },
      "outputs": [
        {
          "data": {
            "text/plain": [
              "LogisticRegression(solver='liblinear')"
            ]
          },
          "execution_count": 48,
          "metadata": {},
          "output_type": "execute_result"
        }
      ],
      "source": [
        "lreg2 = LogisticRegression(solver='liblinear')\n",
        "lreg2.fit(train_X2,train_y2)"
      ]
    },
    {
      "cell_type": "markdown",
      "metadata": {},
      "source": [
        "### Confusion Matrix"
      ]
    },
    {
      "cell_type": "code",
      "execution_count": 49,
      "metadata": {},
      "outputs": [],
      "source": [
        "# Compute and plot the Confusion matrix\n",
        "def confusion_matrix_for_data(y_test, y_pred):\n",
        "    cf_matrix = confusion_matrix(y_test, y_pred)\n",
        "\n",
        "    categories  = ['Negative','Positive']\n",
        "    group_names = ['True Neg','False Pos', 'False Neg','True Pos']\n",
        "    group_percentages = ['{0:.2%}'.format(value) for value in cf_matrix.flatten() / np.sum(cf_matrix)]\n",
        "\n",
        "    labels = [f'{v1}\\n{v2}' for v1, v2 in zip(group_names,group_percentages)]\n",
        "    labels = np.asarray(labels).reshape(2,2)\n",
        "\n",
        "    sns.heatmap(cf_matrix, annot = labels, cmap = 'Blues',fmt = '',\n",
        "                xticklabels = categories, yticklabels = categories)\n",
        "\n",
        "    plt.xlabel(\"Predicted values\", fontdict = {'size':14}, labelpad = 10)\n",
        "    plt.ylabel(\"Actual values\"   , fontdict = {'size':14}, labelpad = 10)\n",
        "    plt.title (\"Confusion Matrix\", fontdict = {'size':18}, pad = 20)"
      ]
    },
    {
      "cell_type": "markdown",
      "metadata": {
        "id": "9l8Fkxpa16hQ"
      },
      "source": [
        "### Predict for X1, Y1"
      ]
    },
    {
      "cell_type": "code",
      "execution_count": 63,
      "metadata": {
        "id": "LUEcmzS71ogz"
      },
      "outputs": [],
      "source": [
        "train_yhat1 = lreg1.predict_proba(train_X1)\n",
        "test_yhat1 = lreg1.predict_proba(test_X1)\n",
        "\n",
        "# print(\"training score = \", roc_auc_score(train_y1, train_yhat1[:,1]))\n",
        "# print(\"test score = \", roc_auc_score(test_y1,test_yhat1[:,1]))\n",
        "\n",
        "th = threshold = 0.2\n",
        "temp = max = 0\n",
        "for i in range(1000):\n",
        "\n",
        "    train_output1 = (train_yhat1[:,1] > threshold).astype(int)\n",
        "    test_output1 = (test_yhat1[:,1] > threshold).astype(int)\n",
        "    threshold += 0.0001\n",
        "    temp = f1_score(test_y1.astype(int), test_output1)\n",
        "    if max<temp:\n",
        "        max = temp\n",
        "        th = threshold"
      ]
    },
    {
      "cell_type": "code",
      "execution_count": 51,
      "metadata": {},
      "outputs": [
        {
          "name": "stdout",
          "output_type": "stream",
          "text": [
            "0.20139999999999986\n",
            "0.6199288685273374\n",
            "training score =  0.9829776836618341\n",
            "testing score =  0.6167815808914061\n"
          ]
        }
      ],
      "source": [
        "print(th)\n",
        "print(max)"
      ]
    },
    {
      "cell_type": "code",
      "execution_count": 64,
      "metadata": {},
      "outputs": [
        {
          "name": "stdout",
          "output_type": "stream",
          "text": [
            "training score =  0.978500070923423\n",
            "testing score =  0.6198830409356725\n"
          ]
        }
      ],
      "source": [
        "train_yhat1 = lreg1.predict_proba(train_X1)\n",
        "test_yhat1 = lreg1.predict_proba(test_X1)\n",
        "\n",
        "threshold = 0.20139999999999986\n",
        "train_output1 = (train_yhat1[:,1] > threshold).astype(int)\n",
        "test_output1 = (test_yhat1[:,1] > threshold).astype(int)\n",
        "\n",
        "print(\"training score = \", f1_score(train_y1.astype(int), train_output1))\n",
        "print(\"testing score = \", f1_score(test_y1.astype(int), test_output1))"
      ]
    },
    {
      "cell_type": "markdown",
      "metadata": {
        "id": "qE74zYa62MfV"
      },
      "source": [
        "### Predict for X2, Y2"
      ]
    },
    {
      "cell_type": "code",
      "execution_count": 71,
      "metadata": {
        "id": "vdTbUQBz2QkI"
      },
      "outputs": [],
      "source": [
        "train_yhat2 = lreg2.predict_proba(train_X2)\n",
        "test_yhat2 = lreg2.predict_proba(test_X2)\n",
        "\n",
        "th = threshold = 0.2\n",
        "temp = max = 0\n",
        "for i in range(2000):\n",
        "\n",
        "    threshold += 0.0001\n",
        "    train_output2 = (train_yhat2[:,1] > threshold).astype(int)\n",
        "    test_output2 = (test_yhat2[:,1] > threshold).astype(int)\n",
        "    temp = f1_score(test_y2.astype(int), test_output2)\n",
        "    if max<temp:\n",
        "        max = temp\n",
        "        th = threshold\n",
        "# print(\"training score = \", roc_auc_score(train_y2, train_yhat2[:,1]))\n",
        "# print(\"test score = \", roc_auc_score(test_y2,test_yhat2[:,1]))"
      ]
    },
    {
      "cell_type": "code",
      "execution_count": 72,
      "metadata": {},
      "outputs": [
        {
          "name": "stdout",
          "output_type": "stream",
          "text": [
            "0.20049999999999996\n",
            "0.5909879685330864\n"
          ]
        }
      ],
      "source": [
        "print(th)\n",
        "print(max)"
      ]
    },
    {
      "cell_type": "code",
      "execution_count": 73,
      "metadata": {},
      "outputs": [
        {
          "name": "stdout",
          "output_type": "stream",
          "text": [
            "training score =  0.7258602380908024\n",
            "testing score =  0.5909879685330864\n"
          ]
        }
      ],
      "source": [
        "train_yhat2 = lreg2.predict_proba(train_X2)\n",
        "test_yhat2 = lreg2.predict_proba(test_X2)\n",
        "\n",
        "threshold = 0.20049999999999996\n",
        "train_output2 = (train_yhat2[:,1] > threshold).astype(int)\n",
        "test_output2 = (test_yhat2[:,1] > threshold).astype(int)\n",
        "\n",
        "\n",
        "print(\"training score = \", f1_score(train_y2.astype(int), train_output2))\n",
        "print(\"testing score = \", f1_score(test_y2.astype(int), test_output2))"
      ]
    },
    {
      "cell_type": "markdown",
      "metadata": {},
      "source": [
        "### Saving Data"
      ]
    },
    {
      "cell_type": "code",
      "execution_count": 74,
      "metadata": {},
      "outputs": [],
      "source": [
        "# data = [[\"question_text\",\"target\"]]\n",
        "# for i in range(N):\n",
        "#   data.append([sentences[i],Y1[i]])"
      ]
    },
    {
      "cell_type": "code",
      "execution_count": 75,
      "metadata": {},
      "outputs": [],
      "source": [
        "# import csv\n",
        "\n",
        "# with open('processed_train_data.csv','w',newline='') as fp:\n",
        "#   a = csv.writer(fp, delimiter=',')\n",
        "#   a.writerows(data)"
      ]
    },
    {
      "cell_type": "markdown",
      "metadata": {},
      "source": [
        "### Confusion Matrix"
      ]
    },
    {
      "cell_type": "code",
      "execution_count": 76,
      "metadata": {},
      "outputs": [
        {
          "data": {
            "image/png": "[encoded data removed]",
            "text/plain": [
              "<Figure size 432x288 with 2 Axes>"
            ]
          },
          "metadata": {
            "needs_background": "light"
          },
          "output_type": "display_data"
        }
      ],
      "source": [
        "confusion_matrix_for_data(train_y1.astype(int), train_output1)"
      ]
    },
    {
      "cell_type": "code",
      "execution_count": 77,
      "metadata": {},
      "outputs": [
        {
          "data": {
            "image/png": "[encoded data removed]",
            "text/plain": [
              "<Figure size 432x288 with 2 Axes>"
            ]
          },
          "metadata": {
            "needs_background": "light"
          },
          "output_type": "display_data"
        }
      ],
      "source": [
        "confusion_matrix_for_data(test_y1.astype(int), test_output1)"
      ]
    },
    {
      "cell_type": "code",
      "execution_count": 78,
      "metadata": {},
      "outputs": [
        {
          "data": {
            "image/png": "[encoded data removed]",
            "text/plain": [
              "<Figure size 432x288 with 2 Axes>"
            ]
          },
          "metadata": {
            "needs_background": "light"
          },
          "output_type": "display_data"
        }
      ],
      "source": [
        "confusion_matrix_for_data(train_y2.astype(int), train_output2)"
      ]
    },
    {
      "cell_type": "code",
      "execution_count": 79,
      "metadata": {},
      "outputs": [
        {
          "data": {
            "image/png": "[encoded data removed]",
            "text/plain": [
              "<Figure size 432x288 with 2 Axes>"
            ]
          },
          "metadata": {
            "needs_background": "light"
          },
          "output_type": "display_data"
        }
      ],
      "source": [
        "confusion_matrix_for_data(test_y2.astype(int), test_output2)"
      ]
    },
    {
      "cell_type": "markdown",
      "metadata": {},
      "source": [
        "### Saving Model"
      ]
    },
    {
      "cell_type": "code",
      "execution_count": 80,
      "metadata": {},
      "outputs": [],
      "source": [
        "# import joblib\n",
        "\n",
        "# joblib.dump(lreg1,'Using Split LReg1 Model')\n",
        "# joblib.dump(lreg2,'Using Split LReg2 Model')"
      ]
    }
  ],
  "metadata": {
    "colab": {
      "collapsed_sections": [],
      "name": "v1.ipynb",
      "provenance": []
    },
    "interpreter": {
      "hash": "916dbcbb3f70747c44a77c7bcd40155683ae19c65e1c03b4aa3499c5328201f1"
    },
    "kernelspec": {
      "display_name": "Python 3.8.10 64-bit",
      "language": "python",
      "name": "python3"
    },
    "language_info": {
      "codemirror_mode": {
        "name": "ipython",
        "version": 3
      },
      "file_extension": ".py",
      "mimetype": "text/x-python",
      "name": "python",
      "nbconvert_exporter": "python",
      "pygments_lexer": "ipython3",
      "version": "3.8.10"
    },
    "orig_nbformat": 4
  },
  "nbformat": 4,
  "nbformat_minor": 0
}
